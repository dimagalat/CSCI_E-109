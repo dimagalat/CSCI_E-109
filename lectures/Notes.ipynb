{
 "metadata": {
  "name": "",
  "signature": "sha256:61d33d7176b18b214aa32779d77edf10e239311e201cc84d2b31ccc9589eb4f6"
 },
 "nbformat": 3,
 "nbformat_minor": 0,
 "worksheets": [
  {
   "cells": [
    {
     "cell_type": "markdown",
     "metadata": {},
     "source": [
      "# 09-02-2014"
     ]
    },
    {
     "cell_type": "markdown",
     "metadata": {},
     "source": [
      "## Questions\n",
      "Latent Factors Model?\n",
      "\n",
      "## Notes\n",
      "* Start looking into campaign prediction techniques (GBT?)"
     ]
    },
    {
     "cell_type": "markdown",
     "metadata": {},
     "source": [
      "---\n",
      "# 09-04-2014"
     ]
    },
    {
     "cell_type": "markdown",
     "metadata": {},
     "source": [
      "## Questions\n",
      "\n",
      "## Notes\n",
      "* Look into QQ-plots;\n",
      "* Review regression;\n",
      "* Look into Anscombe's quartet;"
     ]
    },
    {
     "cell_type": "markdown",
     "metadata": {},
     "source": [
      "---\n",
      "# 09-11-2014"
     ]
    },
    {
     "cell_type": "markdown",
     "metadata": {},
     "source": [
      "## Questions\n",
      "* Should I revert axis when \"lower is better\"?\n",
      "* Can I use two Y-axis to show different variables over a common third?\n",
      "\n",
      "## Notes\n"
     ]
    },
    {
     "cell_type": "code",
     "collapsed": false,
     "input": [],
     "language": "python",
     "metadata": {},
     "outputs": []
    }
   ],
   "metadata": {}
  }
 ]
}