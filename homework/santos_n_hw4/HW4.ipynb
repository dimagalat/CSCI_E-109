{
 "metadata": {
  "name": "",
  "signature": "sha256:14f7b6b2520dce24682dc0e35d10f166f2c0a9986065feb7bd53c404d58af216"
 },
 "nbformat": 3,
 "nbformat_minor": 0,
 "worksheets": [
  {
   "cells": [
    {
     "cell_type": "markdown",
     "metadata": {},
     "source": [
      "# Homework 4: Can you predict the Midterm Elections?\n",
      "\n",
      "Due: Monday, November 3, 2014 11:59 PM\n",
      "\n",
      "<a href=https://raw.githubusercontent.com/cs109/2014/master/homework/HW4.ipynb download=HW4.ipynb> Download this assignment</a>\n",
      "\n",
      "#### Submission Instructions\n",
      "To submit your homework, create a folder named lastname_firstinitial_hw# and place your IPython notebooks, data files, and any other files in this folder. Your IPython Notebooks should be completely executed with the results visible in the notebook. We should not have to run any code. Compress the folder (please use .zip compression) and submit to the CS109 dropbox in the appropriate folder. If we cannot access your work because these directions are not followed correctly, we will not grade your work. For the competition (problem 4), we will post a link on Piazza to a Google Form for you to submit your predictions. \n",
      "\n",
      "\n",
      "---\n"
     ]
    },
    {
     "cell_type": "markdown",
     "metadata": {},
     "source": [
      "## Introduction\n",
      "\n",
      "**Add Introduction**\n",
      "\n",
      "You will use the [HuffPost Pollster API](http://elections.huffingtonpost.com/pollster/api) to extract the polls for the current 2014 Senate Midterm Elections and provide a final prediction of the result of each state.\n",
      "\n",
      "#### Data\n",
      "\n",
      "We will use the polls from the [2014 Senate Midterm Elections](http://elections.huffingtonpost.com/pollster) from the [HuffPost Pollster API](http://elections.huffingtonpost.com/pollster/api). \n",
      "\n",
      "---"
     ]
    },
    {
     "cell_type": "code",
     "collapsed": false,
     "input": [
      "import pandas as pd\n",
      "import numpy as np\n",
      "import scipy as sp\n",
      "import scipy.stats as stats\n",
      "\n",
      "import matplotlib.pyplot as plt\n",
      "\n",
      "from requests import get\n",
      "from collections import defaultdict\n",
      "\n",
      "import datetime as dt\n",
      "\n",
      "%matplotlib inline"
     ],
     "language": "python",
     "metadata": {},
     "outputs": [],
     "prompt_number": 1
    },
    {
     "cell_type": "markdown",
     "metadata": {},
     "source": [
      "## Problem 1: Data Wrangling\n",
      "\n",
      "We will read in the polls from the [2014 Senate Midterm Elections](http://elections.huffingtonpost.com/pollster) from the [HuffPost Pollster API](http://elections.huffingtonpost.com/pollster/api) and create a dictionary of DataFrames as well a master table information for each race."
     ]
    },
    {
     "cell_type": "markdown",
     "metadata": {},
     "source": [
      "#### Problem 1(a)\n",
      "\n",
      "Read in [this JSON object](http://elections.huffingtonpost.com/pollster/api/charts/?topic=2014-senate) containing the polls for the 2014 Senate Elections using the HuffPost API. Call this JSON object `info`.  This JSON object is imported as a list in Python where each element contains the information for one race.  Use the function `type` to confirm the that `info` is a list. "
     ]
    },
    {
     "cell_type": "code",
     "collapsed": false,
     "input": [
      "info = get(\"http://elections.huffingtonpost.com/pollster/api/charts.json?topic=2014-senate\").json()\n",
      "type(info)"
     ],
     "language": "python",
     "metadata": {},
     "outputs": [
      {
       "metadata": {},
       "output_type": "pyout",
       "prompt_number": 2,
       "text": [
        "list"
       ]
      }
     ],
     "prompt_number": 2
    },
    {
     "cell_type": "markdown",
     "metadata": {},
     "source": [
      "#### Problem 1(b)\n",
      "\n",
      "For each element of the list in `info` extract the state. We should have one poll per state, but we do not. Why?\n",
      "\n",
      "**Hint**: Use the internet to find out information on the races in each state that has more than one entry. Eliminate entries of the list that represent races that are not happening."
     ]
    },
    {
     "cell_type": "code",
     "collapsed": false,
     "input": [
      "# Create dict with 0 as default value.\n",
      "states = defaultdict(int)\n",
      "# Parse info and increment states dict accordingly.\n",
      "for poll in info:\n",
      "    states[poll[\"state\"]] += 1\n",
      "# Make sure the number of states having elections is correct.\n",
      "assert len(states) == 33, \"Expected {}, got {}.\".format(33, len(states))\n",
      "# Create list with states with multiple polls.    \n",
      "multi_polls = []\n",
      "for state, polls in states.items():\n",
      "    if polls > 1:\n",
      "        multi_polls.append(state)\n",
      "        \n",
      "[(poll[\"short_title\"], i) for i, poll in enumerate(info) if poll[\"state\"] in multi_polls]"
     ],
     "language": "python",
     "metadata": {},
     "outputs": [
      {
       "metadata": {},
       "output_type": "pyout",
       "prompt_number": 3,
       "text": [
        "[(u'2014 New Hampshire Senate', 4),\n",
        " (u'NH Senate: Bass vs. Shaheen', 6),\n",
        " (u'2014 Georgia Senate', 15),\n",
        " (u'2014 South Carolina Senate: Graham vs. Hutto', 21),\n",
        " (u'2014 South Carolina Senate: Scott vs. Dickerson', 22),\n",
        " (u'2014 Oklahoma Senate: Inhofe vs. Silverstein', 23),\n",
        " (u'2014 Oklahoma Senate: Lankford vs. Johnson', 31),\n",
        " (u'2014 Georgia Senate Runoff', 36)]"
       ]
      }
     ],
     "prompt_number": 3
    },
    {
     "cell_type": "code",
     "collapsed": false,
     "input": [
      "# Delete \"bad\" polls.\n",
      "del(info[36])\n",
      "del(info[6])\n",
      "# Make sure info has the expected size (33 states plus 2 specials).\n",
      "assert len(info) == 35, \"Expected {}, got {}.\".format(35, len(info))"
     ],
     "language": "python",
     "metadata": {},
     "outputs": [],
     "prompt_number": 4
    },
    {
     "cell_type": "code",
     "collapsed": false,
     "input": [
      "[(poll[\"short_title\"], i) for i, poll in enumerate(info) if poll[\"state\"] in multi_polls]"
     ],
     "language": "python",
     "metadata": {},
     "outputs": [
      {
       "metadata": {},
       "output_type": "pyout",
       "prompt_number": 5,
       "text": [
        "[(u'2014 New Hampshire Senate', 4),\n",
        " (u'2014 Georgia Senate', 14),\n",
        " (u'2014 South Carolina Senate: Graham vs. Hutto', 20),\n",
        " (u'2014 South Carolina Senate: Scott vs. Dickerson', 21),\n",
        " (u'2014 Oklahoma Senate: Inhofe vs. Silverstein', 22),\n",
        " (u'2014 Oklahoma Senate: Lankford vs. Johnson', 30)]"
       ]
      }
     ],
     "prompt_number": 5
    },
    {
     "cell_type": "markdown",
     "metadata": {},
     "source": [
      "** Your answer here: ** South Carolina and Oklahoma have special elections this year, and are therefore electing two senators each. New Hampshire and Georgia on the other hand are only electing one senator but have two polls. We removed these polls from the \"info\" list."
     ]
    },
    {
     "cell_type": "markdown",
     "metadata": {},
     "source": [
      "#### Problem 1(c)\n",
      "\n",
      "Create a dictionary of pandas DataFrames called `polls` keyed by the name of the election (a string). Each value in the dictionary should contain the polls for one of the races."
     ]
    },
    {
     "cell_type": "code",
     "collapsed": false,
     "input": [
      "# Can't use read_json because we only want the \"polls\" item.\n",
      "polls = {}\n",
      "for election in info:\n",
      "    temp = pd.DataFrame(get(election[\"url\"] + \".json\").json()[\"polls\"])\n",
      "    temp = temp.merge(pd.DataFrame(list(temp[\"choices\"])), left_index=True, right_index=True)\n",
      "    # Make sure no polls were left out.\n",
      "    assert len(temp) >= election[\"poll_count\"], \"Got {}, expected {}: {}\".format(len(temp),\n",
      "                                                                                 election[\"poll_count\"],\n",
      "                                                                                 election[\"short_title\"])\n",
      "    polls[election[\"short_title\"]] = temp.drop(\"choices\", axis=1)\n",
      "len(polls)"
     ],
     "language": "python",
     "metadata": {},
     "outputs": [
      {
       "metadata": {},
       "output_type": "pyout",
       "prompt_number": 13,
       "text": [
        "35"
       ]
      }
     ],
     "prompt_number": 13
    },
    {
     "cell_type": "code",
     "collapsed": false,
     "input": [
      "polls[\"2014 New Jersey Senate\"].head()"
     ],
     "language": "python",
     "metadata": {},
     "outputs": [
      {
       "html": [
        "<div style=\"max-height:1000px;max-width:1500px;overflow:auto;\">\n",
        "<table border=\"1\" class=\"dataframe\">\n",
        "  <thead>\n",
        "    <tr style=\"text-align: right;\">\n",
        "      <th></th>\n",
        "      <th>affiliation</th>\n",
        "      <th>cell</th>\n",
        "      <th>enddate</th>\n",
        "      <th>id</th>\n",
        "      <th>mode</th>\n",
        "      <th>numobs</th>\n",
        "      <th>partisan</th>\n",
        "      <th>pollster</th>\n",
        "      <th>population</th>\n",
        "      <th>releasedatetime</th>\n",
        "      <th>slug</th>\n",
        "      <th>startdate</th>\n",
        "      <th>url</th>\n",
        "      <th>Bell</th>\n",
        "      <th>Booker</th>\n",
        "      <th>Other</th>\n",
        "      <th>Undecided</th>\n",
        "    </tr>\n",
        "  </thead>\n",
        "  <tbody>\n",
        "    <tr>\n",
        "      <th>0</th>\n",
        "      <td> None</td>\n",
        "      <td>  no</td>\n",
        "      <td> 2014-10-23</td>\n",
        "      <td> 21064</td>\n",
        "      <td>   Internet</td>\n",
        "      <td> 1868</td>\n",
        "      <td> Nonpartisan</td>\n",
        "      <td>      CBS/NYT/YouGov</td>\n",
        "      <td> Likely Voters</td>\n",
        "      <td> 2014-10-26 15:18:37</td>\n",
        "      <td>      cbs-nyt-yougov-21064</td>\n",
        "      <td> 2014-10-16</td>\n",
        "      <td> https://today.yougov.com/news/2014/09/07/battl...</td>\n",
        "      <td> 39</td>\n",
        "      <td> 51</td>\n",
        "      <td> 0</td>\n",
        "      <td>  9</td>\n",
        "    </tr>\n",
        "    <tr>\n",
        "      <th>1</th>\n",
        "      <td> None</td>\n",
        "      <td> yes</td>\n",
        "      <td> 2014-10-22</td>\n",
        "      <td> 21014</td>\n",
        "      <td> Live Phone</td>\n",
        "      <td>  806</td>\n",
        "      <td> Nonpartisan</td>\n",
        "      <td>            Stockton</td>\n",
        "      <td> Likely Voters</td>\n",
        "      <td> 2014-10-24 02:27:02</td>\n",
        "      <td>            stockton-21014</td>\n",
        "      <td> 2014-10-18</td>\n",
        "      <td> http://intraweb.stockton.edu/eyos/hughescenter...</td>\n",
        "      <td> 33</td>\n",
        "      <td> 57</td>\n",
        "      <td> 5</td>\n",
        "      <td>  5</td>\n",
        "    </tr>\n",
        "    <tr>\n",
        "      <th>2</th>\n",
        "      <td> None</td>\n",
        "      <td> yes</td>\n",
        "      <td> 2014-10-19</td>\n",
        "      <td> 20954</td>\n",
        "      <td> Live Phone</td>\n",
        "      <td>  525</td>\n",
        "      <td> Nonpartisan</td>\n",
        "      <td> Fairleigh Dickinson</td>\n",
        "      <td> Likely Voters</td>\n",
        "      <td> 2014-10-21 17:52:17</td>\n",
        "      <td> fairleigh-dickinson-20954</td>\n",
        "      <td> 2014-10-13</td>\n",
        "      <td>   http://publicmind.fdu.edu/2014/booker-bell1978/</td>\n",
        "      <td> 40</td>\n",
        "      <td> 56</td>\n",
        "      <td> 1</td>\n",
        "      <td>  4</td>\n",
        "    </tr>\n",
        "    <tr>\n",
        "      <th>3</th>\n",
        "      <td> None</td>\n",
        "      <td> yes</td>\n",
        "      <td> 2014-10-05</td>\n",
        "      <td> 20729</td>\n",
        "      <td> Live Phone</td>\n",
        "      <td>  477</td>\n",
        "      <td> Nonpartisan</td>\n",
        "      <td> Monmouth University</td>\n",
        "      <td> Likely Voters</td>\n",
        "      <td> 2014-10-06 15:15:30</td>\n",
        "      <td> monmouth-university-20729</td>\n",
        "      <td> 2014-10-02</td>\n",
        "      <td> http://www.monmouth.edu/assets/0/32212254770/3...</td>\n",
        "      <td> 38</td>\n",
        "      <td> 53</td>\n",
        "      <td> 2</td>\n",
        "      <td>  7</td>\n",
        "    </tr>\n",
        "    <tr>\n",
        "      <th>4</th>\n",
        "      <td> None</td>\n",
        "      <td>  no</td>\n",
        "      <td> 2014-10-01</td>\n",
        "      <td> 20713</td>\n",
        "      <td>   Internet</td>\n",
        "      <td> 2011</td>\n",
        "      <td> Nonpartisan</td>\n",
        "      <td>      CBS/NYT/YouGov</td>\n",
        "      <td> Likely Voters</td>\n",
        "      <td> 2014-10-05 16:01:42</td>\n",
        "      <td>      cbs-nyt-yougov-20713</td>\n",
        "      <td> 2014-09-20</td>\n",
        "      <td> https://today.yougov.com/news/2014/09/07/battl...</td>\n",
        "      <td> 37</td>\n",
        "      <td> 51</td>\n",
        "      <td> 0</td>\n",
        "      <td> 12</td>\n",
        "    </tr>\n",
        "  </tbody>\n",
        "</table>\n",
        "</div>"
       ],
       "metadata": {},
       "output_type": "pyout",
       "prompt_number": 14,
       "text": [
        "  affiliation cell     enddate     id        mode numobs     partisan  \\\n",
        "0        None   no  2014-10-23  21064    Internet   1868  Nonpartisan   \n",
        "1        None  yes  2014-10-22  21014  Live Phone    806  Nonpartisan   \n",
        "2        None  yes  2014-10-19  20954  Live Phone    525  Nonpartisan   \n",
        "3        None  yes  2014-10-05  20729  Live Phone    477  Nonpartisan   \n",
        "4        None   no  2014-10-01  20713    Internet   2011  Nonpartisan   \n",
        "\n",
        "              pollster     population      releasedatetime  \\\n",
        "0       CBS/NYT/YouGov  Likely Voters  2014-10-26 15:18:37   \n",
        "1             Stockton  Likely Voters  2014-10-24 02:27:02   \n",
        "2  Fairleigh Dickinson  Likely Voters  2014-10-21 17:52:17   \n",
        "3  Monmouth University  Likely Voters  2014-10-06 15:15:30   \n",
        "4       CBS/NYT/YouGov  Likely Voters  2014-10-05 16:01:42   \n",
        "\n",
        "                        slug   startdate  \\\n",
        "0       cbs-nyt-yougov-21064  2014-10-16   \n",
        "1             stockton-21014  2014-10-18   \n",
        "2  fairleigh-dickinson-20954  2014-10-13   \n",
        "3  monmouth-university-20729  2014-10-02   \n",
        "4       cbs-nyt-yougov-20713  2014-09-20   \n",
        "\n",
        "                                                 url Bell Booker Other  \\\n",
        "0  https://today.yougov.com/news/2014/09/07/battl...   39     51     0   \n",
        "1  http://intraweb.stockton.edu/eyos/hughescenter...   33     57     5   \n",
        "2    http://publicmind.fdu.edu/2014/booker-bell1978/   40     56     1   \n",
        "3  http://www.monmouth.edu/assets/0/32212254770/3...   38     53     2   \n",
        "4  https://today.yougov.com/news/2014/09/07/battl...   37     51     0   \n",
        "\n",
        "  Undecided  \n",
        "0         9  \n",
        "1         5  \n",
        "2         4  \n",
        "3         7  \n",
        "4        12  "
       ]
      }
     ],
     "prompt_number": 14
    },
    {
     "cell_type": "markdown",
     "metadata": {},
     "source": [
      "#### Problem 1(d)\n",
      "\n",
      "Now create a master table information containing information about each race. Create a pandas DataFrame called `candidates` with rows containing information about each race. The `candidates` DataFrame should have the following columns: \n",
      "\n",
      "1. `State` = the state where the race is being held\n",
      "2. `R` = name of republican candidate\n",
      "3. `D` = name of non-republican candidate (Democrate or Independent) \n",
      "4. `incumbent` = R, D or NA\n",
      "\n",
      "**Hint**: You will need a considerable amount of data wrangling for this."
     ]
    },
    {
     "cell_type": "code",
     "collapsed": false,
     "input": [
      "candidates = []\n",
      "for race in info:\n",
      "    temp = {}\n",
      "    temp[\"State\"] = race[\"state\"]\n",
      "    # Hold state of non-republican percentages.\n",
      "    non_rep_contendant_perc = 0.0\n",
      "    # Ignore races with emply estimates.\n",
      "    if not race[\"estimates\"]:\n",
      "        print(\"No estimates for {}\".format(temp[\"State\"]))\n",
      "        continue\n",
      "    for candidate in race[\"estimates\"]:\n",
      "        name = candidate[\"choice\"]\n",
      "        party = candidate[\"party\"]\n",
      "        # Convert to lower case to avoid case problems on if statements.\n",
      "        if party:\n",
      "            party = party.lower()\n",
      "        if party == \"rep\":\n",
      "            temp[\"R\"] = name\n",
      "            if candidate[\"incumbent\"]:\n",
      "                temp[\"incumbent\"] = \"R\"\n",
      "        # Handle non-republicans.\n",
      "        else:\n",
      "            if candidate[\"value\"] > non_rep_contendant_perc:\n",
      "                non_rep_contendant_perc = candidate[\"value\"]\n",
      "                temp[\"D\"] = name\n",
      "            if candidate[\"incumbent\"]:\n",
      "                temp[\"incumbent\"] = \"D\"\n",
      "        # Handle cases where none of the candidates are up for re-election.\n",
      "        if not \"incumbent\" in temp:\n",
      "            temp[\"incumbent\"] = \"NA\"\n",
      "    candidates.append(temp)\n",
      "candidates = pd.DataFrame(candidates, columns=[\"State\", \"R\", \"D\", \"incumbent\"]).drop_duplicates()\n",
      "candidates.copy().sort(\"State\").head()"
     ],
     "language": "python",
     "metadata": {},
     "outputs": [
      {
       "html": [
        "<div style=\"max-height:1000px;max-width:1500px;overflow:auto;\">\n",
        "<table border=\"1\" class=\"dataframe\">\n",
        "  <thead>\n",
        "    <tr style=\"text-align: right;\">\n",
        "      <th></th>\n",
        "      <th>State</th>\n",
        "      <th>R</th>\n",
        "      <th>D</th>\n",
        "      <th>incumbent</th>\n",
        "    </tr>\n",
        "  </thead>\n",
        "  <tbody>\n",
        "    <tr>\n",
        "      <th>10</th>\n",
        "      <td> AK</td>\n",
        "      <td> Sullivan</td>\n",
        "      <td> Begich</td>\n",
        "      <td>  D</td>\n",
        "    </tr>\n",
        "    <tr>\n",
        "      <th>1 </th>\n",
        "      <td> AR</td>\n",
        "      <td>   Cotton</td>\n",
        "      <td>  Pryor</td>\n",
        "      <td>  D</td>\n",
        "    </tr>\n",
        "    <tr>\n",
        "      <th>8 </th>\n",
        "      <td> CO</td>\n",
        "      <td>  Gardner</td>\n",
        "      <td>  Udall</td>\n",
        "      <td>  D</td>\n",
        "    </tr>\n",
        "    <tr>\n",
        "      <th>34</th>\n",
        "      <td> DE</td>\n",
        "      <td>     Wade</td>\n",
        "      <td>  Coons</td>\n",
        "      <td>  D</td>\n",
        "    </tr>\n",
        "    <tr>\n",
        "      <th>14</th>\n",
        "      <td> GA</td>\n",
        "      <td>   Perdue</td>\n",
        "      <td>   Nunn</td>\n",
        "      <td> NA</td>\n",
        "    </tr>\n",
        "  </tbody>\n",
        "</table>\n",
        "</div>"
       ],
       "metadata": {},
       "output_type": "pyout",
       "prompt_number": 15,
       "text": [
        "   State         R       D incumbent\n",
        "10    AK  Sullivan  Begich         D\n",
        "1     AR    Cotton   Pryor         D\n",
        "8     CO   Gardner   Udall         D\n",
        "34    DE      Wade   Coons         D\n",
        "14    GA    Perdue    Nunn        NA"
       ]
      }
     ],
     "prompt_number": 15
    },
    {
     "cell_type": "markdown",
     "metadata": {},
     "source": [
      "## Problem 2: Confidence Intervals\n",
      "\n",
      "Compute a 99% confidence interval for each state. "
     ]
    },
    {
     "cell_type": "markdown",
     "metadata": {},
     "source": [
      "#### Problem 2(a)\n",
      "\n",
      "Assume you have $M$ polls with sample sizes $n_1, \\dots, n_M$. If the polls are independent, what is the average of the variances of each poll if the true proportion is $p$?"
     ]
    },
    {
     "cell_type": "markdown",
     "metadata": {},
     "source": [
      "** Your answer here: ** $\\bar{\\sigma^2} = \\frac{1}{M} \\sum\\limits_{i=1}^m\\frac{p_i q_i}{n_i} \\mid q = 1 - p$"
     ]
    },
    {
     "cell_type": "markdown",
     "metadata": {},
     "source": [
      "#### Problem 2(b)\n",
      "\n",
      "Compute the square root of these values in Problem 2(a) for the republican candidates in each race. Then, compute the standard deviations of the observed poll results for each race. "
     ]
    },
    {
     "cell_type": "code",
     "collapsed": false,
     "input": [
      "def get_errors(days_cap=None):\n",
      "    errors = pd.DataFrame()\n",
      "    for race, poll in polls.iteritems():\n",
      "        if days_cap:\n",
      "            # Subtracting sixty days instead of a month.\n",
      "            two_months = dt.date.today() - dt.timedelta(days=days_cap)\n",
      "            # Overwrite poll with only relevant polls.\n",
      "            poll = poll[poll[\"startdate\"].astype(np.datetime64) >= two_months]\n",
      "        # Get the republican candidate.\n",
      "        candidate = poll.columns.intersection(candidates[\"R\"])\n",
      "        if len(candidate) > 0:\n",
      "            p = poll[candidate].astype(np.float64) / 100\n",
      "            q = 1 - p\n",
      "            perc = p.mean()\n",
      "            theoretical = np.sqrt((p * q).div(poll[\"numobs\"].astype(np.float64), axis=0)).mean()\n",
      "            observed = p.std()\n",
      "            errors = errors.append({\"Candidate\": theoretical.index.values[0],\n",
      "                                    \"Percentage\": perc.values[0],\n",
      "                                    \"Theoretical\": theoretical.values[0],\n",
      "                                    \"Observed\": observed.values[0],\n",
      "                                    \"Polls\": len(poll)}, ignore_index=True)\n",
      "    errors = errors.merge(candidates[[\"State\", \"R\"]],\n",
      "                          left_on=\"Candidate\", right_on=\"R\").drop(\"R\", axis=1)\n",
      "    errors = errors.reindex(columns=[\"Candidate\", \"State\", \"Percentage\", \"Theoretical\", \"Observed\", \"Polls\"])\n",
      "    return errors"
     ],
     "language": "python",
     "metadata": {},
     "outputs": [],
     "prompt_number": 16
    },
    {
     "cell_type": "code",
     "collapsed": false,
     "input": [
      "errors = get_errors()\n",
      "errors.head()"
     ],
     "language": "python",
     "metadata": {},
     "outputs": [
      {
       "html": [
        "<div style=\"max-height:1000px;max-width:1500px;overflow:auto;\">\n",
        "<table border=\"1\" class=\"dataframe\">\n",
        "  <thead>\n",
        "    <tr style=\"text-align: right;\">\n",
        "      <th></th>\n",
        "      <th>Candidate</th>\n",
        "      <th>State</th>\n",
        "      <th>Percentage</th>\n",
        "      <th>Theoretical</th>\n",
        "      <th>Observed</th>\n",
        "      <th>Polls</th>\n",
        "    </tr>\n",
        "  </thead>\n",
        "  <tbody>\n",
        "    <tr>\n",
        "      <th>0</th>\n",
        "      <td>   Wade</td>\n",
        "      <td> DE</td>\n",
        "      <td> 0.330000</td>\n",
        "      <td> 0.019062</td>\n",
        "      <td> 0.045277</td>\n",
        "      <td>  5</td>\n",
        "    </tr>\n",
        "    <tr>\n",
        "      <th>1</th>\n",
        "      <td> Daines</td>\n",
        "      <td> MT</td>\n",
        "      <td> 0.532857</td>\n",
        "      <td> 0.021036</td>\n",
        "      <td> 0.029841</td>\n",
        "      <td>  7</td>\n",
        "    </tr>\n",
        "    <tr>\n",
        "      <th>2</th>\n",
        "      <td> Inhofe</td>\n",
        "      <td> OK</td>\n",
        "      <td> 0.611667</td>\n",
        "      <td> 0.015541</td>\n",
        "      <td> 0.039707</td>\n",
        "      <td>  6</td>\n",
        "    </tr>\n",
        "    <tr>\n",
        "      <th>3</th>\n",
        "      <td>   Bell</td>\n",
        "      <td> NJ</td>\n",
        "      <td> 0.359231</td>\n",
        "      <td> 0.015265</td>\n",
        "      <td> 0.052035</td>\n",
        "      <td> 13</td>\n",
        "    </tr>\n",
        "    <tr>\n",
        "      <th>4</th>\n",
        "      <td>  Risch</td>\n",
        "      <td> ID</td>\n",
        "      <td> 0.588333</td>\n",
        "      <td> 0.019216</td>\n",
        "      <td> 0.058452</td>\n",
        "      <td>  6</td>\n",
        "    </tr>\n",
        "  </tbody>\n",
        "</table>\n",
        "</div>"
       ],
       "metadata": {},
       "output_type": "pyout",
       "prompt_number": 17,
       "text": [
        "  Candidate State  Percentage  Theoretical  Observed  Polls\n",
        "0      Wade    DE    0.330000     0.019062  0.045277      5\n",
        "1    Daines    MT    0.532857     0.021036  0.029841      7\n",
        "2    Inhofe    OK    0.611667     0.015541  0.039707      6\n",
        "3      Bell    NJ    0.359231     0.015265  0.052035     13\n",
        "4     Risch    ID    0.588333     0.019216  0.058452      6"
       ]
      }
     ],
     "prompt_number": 17
    },
    {
     "cell_type": "markdown",
     "metadata": {},
     "source": [
      "#### Problem 2(c) \n",
      "\n",
      "Plot observed versus theoretical (average of the theoretical SDs) with the area of the point proportional to number of polls. How do these compare?"
     ]
    },
    {
     "cell_type": "code",
     "collapsed": false,
     "input": [
      "max_observed = max([max(errors[\"Theoretical\"]), max(errors[\"Observed\"])])*1.1\n",
      "\n",
      "plt.figure(figsize=(10, 8))\n",
      "plt.axis([0, max_observed, 0, max_observed])\n",
      "plt.plot(np.linspace(0, max_observed, 100), np.linspace(0, max_observed, 100), color='r')\n",
      "plt.scatter(errors[\"Theoretical\"], errors[\"Observed\"], s=errors[\"Polls\"]*5)\n",
      "plt.xlabel(\"Theoretical\")\n",
      "plt.ylabel(\"Observed\")\n",
      "plt.show()"
     ],
     "language": "python",
     "metadata": {},
     "outputs": [
      {
       "metadata": {},
       "output_type": "display_data",
       "png": "[encoded data removed]",
       "text": [
        "<matplotlib.figure.Figure at 0x119030950>"
       ]
      }
     ],
     "prompt_number": 18
    },
    {
     "cell_type": "markdown",
     "metadata": {},
     "source": [
      "** Your answer here: ** We can see that the observed standard deviations are consitently above the theoretical values. We can also see that there is a lot of variance in the ammount of error between polls."
     ]
    },
    {
     "cell_type": "markdown",
     "metadata": {},
     "source": [
      "#### Problem 2(d)\n",
      "\n",
      "Repeat Problem 2(c) but include only the most recent polls from the last two months. Do they match better or worse or the same? Can we just trust the theoretical values?"
     ]
    },
    {
     "cell_type": "code",
     "collapsed": false,
     "input": [
      "recent_errors = get_errors(60)\n",
      "recent_errors.head()"
     ],
     "language": "python",
     "metadata": {},
     "outputs": [
      {
       "html": [
        "<div style=\"max-height:1000px;max-width:1500px;overflow:auto;\">\n",
        "<table border=\"1\" class=\"dataframe\">\n",
        "  <thead>\n",
        "    <tr style=\"text-align: right;\">\n",
        "      <th></th>\n",
        "      <th>Candidate</th>\n",
        "      <th>State</th>\n",
        "      <th>Percentage</th>\n",
        "      <th>Theoretical</th>\n",
        "      <th>Observed</th>\n",
        "      <th>Polls</th>\n",
        "    </tr>\n",
        "  </thead>\n",
        "  <tbody>\n",
        "    <tr>\n",
        "      <th>0</th>\n",
        "      <td>   Wade</td>\n",
        "      <td> DE</td>\n",
        "      <td> 0.325000</td>\n",
        "      <td> 0.019311</td>\n",
        "      <td> 0.050662</td>\n",
        "      <td> 4</td>\n",
        "    </tr>\n",
        "    <tr>\n",
        "      <th>1</th>\n",
        "      <td> Daines</td>\n",
        "      <td> MT</td>\n",
        "      <td> 0.530000</td>\n",
        "      <td> 0.022001</td>\n",
        "      <td> 0.035355</td>\n",
        "      <td> 5</td>\n",
        "    </tr>\n",
        "    <tr>\n",
        "      <th>2</th>\n",
        "      <td> Inhofe</td>\n",
        "      <td> OK</td>\n",
        "      <td> 0.643333</td>\n",
        "      <td> 0.014770</td>\n",
        "      <td> 0.023094</td>\n",
        "      <td> 3</td>\n",
        "    </tr>\n",
        "    <tr>\n",
        "      <th>3</th>\n",
        "      <td>   Bell</td>\n",
        "      <td> NJ</td>\n",
        "      <td> 0.375714</td>\n",
        "      <td> 0.016311</td>\n",
        "      <td> 0.025071</td>\n",
        "      <td> 7</td>\n",
        "    </tr>\n",
        "    <tr>\n",
        "      <th>4</th>\n",
        "      <td>  Risch</td>\n",
        "      <td> ID</td>\n",
        "      <td> 0.583333</td>\n",
        "      <td> 0.020640</td>\n",
        "      <td> 0.073711</td>\n",
        "      <td> 3</td>\n",
        "    </tr>\n",
        "  </tbody>\n",
        "</table>\n",
        "</div>"
       ],
       "metadata": {},
       "output_type": "pyout",
       "prompt_number": 19,
       "text": [
        "  Candidate State  Percentage  Theoretical  Observed  Polls\n",
        "0      Wade    DE    0.325000     0.019311  0.050662      4\n",
        "1    Daines    MT    0.530000     0.022001  0.035355      5\n",
        "2    Inhofe    OK    0.643333     0.014770  0.023094      3\n",
        "3      Bell    NJ    0.375714     0.016311  0.025071      7\n",
        "4     Risch    ID    0.583333     0.020640  0.073711      3"
       ]
      }
     ],
     "prompt_number": 19
    },
    {
     "cell_type": "code",
     "collapsed": false,
     "input": [
      "max_observed = max([max(recent_errors[\"Theoretical\"]), max(recent_errors[\"Observed\"])])*1.1\n",
      "\n",
      "plt.figure(figsize=(10, 8))\n",
      "plt.axis([0, max_observed, 0, max_observed])\n",
      "plt.plot(np.linspace(0, max_observed, 100), np.linspace(0, max_observed, 100), color='r')\n",
      "plt.scatter(recent_errors[\"Theoretical\"], recent_errors[\"Observed\"], s=recent_errors[\"Polls\"]*10)\n",
      "plt.xlabel(\"Theoretical\")\n",
      "plt.ylabel(\"Observed\")\n",
      "plt.show()"
     ],
     "language": "python",
     "metadata": {},
     "outputs": [
      {
       "metadata": {},
       "output_type": "display_data",
       "png": "[encoded data removed]",
       "text": [
        "<matplotlib.figure.Figure at 0x11926a790>"
       ]
      }
     ],
     "prompt_number": 20
    },
    {
     "cell_type": "markdown",
     "metadata": {},
     "source": [
      "** Your answer here: ** We can see that if we only use the polls conducted in the last 60 days, the observed standard deviation is much closer to the theoretical; some are even lower. This shows that there is definetely a time component to the bias, however it is unlikely that this can explain all of it.\n",
      "\n",
      "Since in general the observed values seem to approach the theoretical values the closer we get to election day, using the latter looks like a good idea."
     ]
    },
    {
     "cell_type": "markdown",
     "metadata": {},
     "source": [
      "#### Problem 2(e)\n",
      "\n",
      "Create a scatter plot with each point representing one state. Is there one or more races that are outlier in that it they have much larger variabilityes than expected ? Explore the original poll data and explain why the discrepancy?"
     ]
    },
    {
     "cell_type": "code",
     "collapsed": false,
     "input": [
      "colors = plt.cm.jet(np.linspace(0, 1, len(states)))\n",
      "\n",
      "plt.figure(figsize=(10, 8))\n",
      "for (state, color) in zip(recent_errors.sort(\"State\")[\"State\"], colors):\n",
      "    theoretical = recent_errors[recent_errors[\"State\"] == state][\"Theoretical\"]\n",
      "    observed = recent_errors[recent_errors[\"State\"] == state][\"Observed\"]\n",
      "    size = recent_errors[recent_errors[\"State\"] == state][\"Polls\"]*10\n",
      "    plt.scatter(theoretical, observed, label=state, s=size, c=color, edgecolors='none')\n",
      "plt.legend(title=\"States\", ncol=2, bbox_to_anchor=(1.05, 1), loc=2, borderaxespad=0.)\n",
      "plt.plot(np.linspace(0, max_observed, 100), np.linspace(0, max_observed, 100), color='r')\n",
      "plt.axis([0, max_observed, 0, max_observed])\n",
      "plt.xlabel(\"Theoretical\")\n",
      "plt.ylabel(\"Observed\")\n",
      "plt.show()"
     ],
     "language": "python",
     "metadata": {},
     "outputs": [
      {
       "metadata": {},
       "output_type": "display_data",
       "png": "[encoded data removed]",
       "text": [
        "<matplotlib.figure.Figure at 0x119258e10>"
       ]
      }
     ],
     "prompt_number": 21
    },
    {
     "cell_type": "code",
     "collapsed": false,
     "input": [
      "# Get races with more than 2 standard deviations from the mean residual (outliers).\n",
      "res = recent_errors[\"Observed\"] - recent_errors[\"Theoretical\"]\n",
      "outliers = recent_errors[(np.abs(res - res.mean()) > (2*res.std()))]\n",
      "outliers"
     ],
     "language": "python",
     "metadata": {},
     "outputs": [
      {
       "html": [
        "<div style=\"max-height:1000px;max-width:1500px;overflow:auto;\">\n",
        "<table border=\"1\" class=\"dataframe\">\n",
        "  <thead>\n",
        "    <tr style=\"text-align: right;\">\n",
        "      <th></th>\n",
        "      <th>Candidate</th>\n",
        "      <th>State</th>\n",
        "      <th>Percentage</th>\n",
        "      <th>Theoretical</th>\n",
        "      <th>Observed</th>\n",
        "      <th>Polls</th>\n",
        "    </tr>\n",
        "  </thead>\n",
        "  <tbody>\n",
        "    <tr>\n",
        "      <th>4 </th>\n",
        "      <td> Risch</td>\n",
        "      <td> ID</td>\n",
        "      <td> 0.583333</td>\n",
        "      <td> 0.020640</td>\n",
        "      <td> 0.073711</td>\n",
        "      <td> 3</td>\n",
        "    </tr>\n",
        "    <tr>\n",
        "      <th>34</th>\n",
        "      <td> Sasse</td>\n",
        "      <td> NE</td>\n",
        "      <td> 0.585000</td>\n",
        "      <td> 0.018614</td>\n",
        "      <td> 0.007071</td>\n",
        "      <td> 2</td>\n",
        "    </tr>\n",
        "  </tbody>\n",
        "</table>\n",
        "</div>"
       ],
       "metadata": {},
       "output_type": "pyout",
       "prompt_number": 22,
       "text": [
        "   Candidate State  Percentage  Theoretical  Observed  Polls\n",
        "4      Risch    ID    0.583333     0.020640  0.073711      3\n",
        "34     Sasse    NE    0.585000     0.018614  0.007071      2"
       ]
      }
     ],
     "prompt_number": 22
    },
    {
     "cell_type": "code",
     "collapsed": false,
     "input": [
      "# Get other states with four or fewer polls.\n",
      "recent_errors[recent_errors[\"Polls\"] <= outliers[\"Polls\"].max()]"
     ],
     "language": "python",
     "metadata": {},
     "outputs": [
      {
       "html": [
        "<div style=\"max-height:1000px;max-width:1500px;overflow:auto;\">\n",
        "<table border=\"1\" class=\"dataframe\">\n",
        "  <thead>\n",
        "    <tr style=\"text-align: right;\">\n",
        "      <th></th>\n",
        "      <th>Candidate</th>\n",
        "      <th>State</th>\n",
        "      <th>Percentage</th>\n",
        "      <th>Theoretical</th>\n",
        "      <th>Observed</th>\n",
        "      <th>Polls</th>\n",
        "    </tr>\n",
        "  </thead>\n",
        "  <tbody>\n",
        "    <tr>\n",
        "      <th>2 </th>\n",
        "      <td>    Inhofe</td>\n",
        "      <td> OK</td>\n",
        "      <td> 0.643333</td>\n",
        "      <td> 0.014770</td>\n",
        "      <td> 0.023094</td>\n",
        "      <td> 3</td>\n",
        "    </tr>\n",
        "    <tr>\n",
        "      <th>4 </th>\n",
        "      <td>     Risch</td>\n",
        "      <td> ID</td>\n",
        "      <td> 0.583333</td>\n",
        "      <td> 0.020640</td>\n",
        "      <td> 0.073711</td>\n",
        "      <td> 3</td>\n",
        "    </tr>\n",
        "    <tr>\n",
        "      <th>8 </th>\n",
        "      <td> Alexander</td>\n",
        "      <td> TN</td>\n",
        "      <td> 0.540000</td>\n",
        "      <td> 0.015834</td>\n",
        "      <td> 0.014142</td>\n",
        "      <td> 2</td>\n",
        "    </tr>\n",
        "    <tr>\n",
        "      <th>15</th>\n",
        "      <td>    Graham</td>\n",
        "      <td> SC</td>\n",
        "      <td> 0.443333</td>\n",
        "      <td> 0.012427</td>\n",
        "      <td> 0.015275</td>\n",
        "      <td> 3</td>\n",
        "    </tr>\n",
        "    <tr>\n",
        "      <th>17</th>\n",
        "      <td>    Capito</td>\n",
        "      <td> WV</td>\n",
        "      <td> 0.540000</td>\n",
        "      <td> 0.016741</td>\n",
        "      <td> 0.034641</td>\n",
        "      <td> 3</td>\n",
        "    </tr>\n",
        "    <tr>\n",
        "      <th>18</th>\n",
        "      <td>   Cochran</td>\n",
        "      <td> MS</td>\n",
        "      <td> 0.480000</td>\n",
        "      <td> 0.018447</td>\n",
        "      <td> 0.028284</td>\n",
        "      <td> 2</td>\n",
        "    </tr>\n",
        "    <tr>\n",
        "      <th>20</th>\n",
        "      <td>     Scott</td>\n",
        "      <td> SC</td>\n",
        "      <td> 0.543333</td>\n",
        "      <td> 0.012452</td>\n",
        "      <td> 0.025166</td>\n",
        "      <td> 3</td>\n",
        "    </tr>\n",
        "    <tr>\n",
        "      <th>23</th>\n",
        "      <td>  Zaccaria</td>\n",
        "      <td> RI</td>\n",
        "      <td> 0.226667</td>\n",
        "      <td> 0.015002</td>\n",
        "      <td> 0.030551</td>\n",
        "      <td> 3</td>\n",
        "    </tr>\n",
        "    <tr>\n",
        "      <th>25</th>\n",
        "      <td>      Enzi</td>\n",
        "      <td> WY</td>\n",
        "      <td> 0.710000</td>\n",
        "      <td> 0.027962</td>\n",
        "      <td> 0.056569</td>\n",
        "      <td> 2</td>\n",
        "    </tr>\n",
        "    <tr>\n",
        "      <th>32</th>\n",
        "      <td>  Lankford</td>\n",
        "      <td> OK</td>\n",
        "      <td> 0.623333</td>\n",
        "      <td> 0.014932</td>\n",
        "      <td> 0.030551</td>\n",
        "      <td> 3</td>\n",
        "    </tr>\n",
        "    <tr>\n",
        "      <th>34</th>\n",
        "      <td>     Sasse</td>\n",
        "      <td> NE</td>\n",
        "      <td> 0.585000</td>\n",
        "      <td> 0.018614</td>\n",
        "      <td> 0.007071</td>\n",
        "      <td> 2</td>\n",
        "    </tr>\n",
        "  </tbody>\n",
        "</table>\n",
        "</div>"
       ],
       "metadata": {},
       "output_type": "pyout",
       "prompt_number": 23,
       "text": [
        "    Candidate State  Percentage  Theoretical  Observed  Polls\n",
        "2      Inhofe    OK    0.643333     0.014770  0.023094      3\n",
        "4       Risch    ID    0.583333     0.020640  0.073711      3\n",
        "8   Alexander    TN    0.540000     0.015834  0.014142      2\n",
        "15     Graham    SC    0.443333     0.012427  0.015275      3\n",
        "17     Capito    WV    0.540000     0.016741  0.034641      3\n",
        "18    Cochran    MS    0.480000     0.018447  0.028284      2\n",
        "20      Scott    SC    0.543333     0.012452  0.025166      3\n",
        "23   Zaccaria    RI    0.226667     0.015002  0.030551      3\n",
        "25       Enzi    WY    0.710000     0.027962  0.056569      2\n",
        "32   Lankford    OK    0.623333     0.014932  0.030551      3\n",
        "34      Sasse    NE    0.585000     0.018614  0.007071      2"
       ]
      }
     ],
     "prompt_number": 23
    },
    {
     "cell_type": "code",
     "collapsed": false,
     "input": [
      "mean_obs = {race: race_polls[\"numobs\"].astype(int).mean() for race, race_polls in polls.items()}\n",
      "zip(mean_obs.keys(), mean_obs.values()/np.mean(mean_obs.values()))"
     ],
     "language": "python",
     "metadata": {},
     "outputs": [
      {
       "metadata": {},
       "output_type": "pyout",
       "prompt_number": 28,
       "text": [
        "[(u'2014 Delaware Senate: Wade vs. Coons', 0.66945105284610051),\n",
        " (u'2014 Montana Senate: Daines vs. Curtis', 0.61200269829300658),\n",
        " (u'2014 Oklahoma Senate: Inhofe vs. Silverstein', 1.0721566258256321),\n",
        " (u'2014 New Jersey Senate', 1.2830708955621124),\n",
        " (u'2014 Idaho Senate', 0.70319297376464607),\n",
        " (u'2014 Arkansas Senate', 0.8774456615224604),\n",
        " (u'2014 Georgia Senate', 1.0308766161912413),\n",
        " (u'2014 Kansas Senate', 0.96596336307697761),\n",
        " (u'2014 Alaska Senate: Sullivan vs. Begich', 0.71797487065740973),\n",
        " (u'2014 Oregon Senate', 0.883822684210398),\n",
        " (u'2014 New Hampshire Senate', 0.87378106765220853),\n",
        " (u'2014 Iowa Senate', 1.0279510863402594),\n",
        " (u'2014 South Dakota Senate', 0.78930575849542139),\n",
        " (u'2014 Louisiana Senate', 0.79341201365380509),\n",
        " (u'2014 South Carolina Senate: Graham vs. Hutto', 1.2869866869259829),\n",
        " (u'2014 Virginia Senate', 1.0141425610683352),\n",
        " (u'2014 West Virginia Senate', 0.8993204207604234),\n",
        " (u'2014 Mississippi Senate', 0.79321868713975685),\n",
        " (u'2014 Massachusetts Senate: Herr vs. Markey', 0.94445207057153779),\n",
        " (u'2014 South Carolina Senate: Scott vs. Dickerson', 1.4290695918442806),\n",
        " (u'IL Senate: Oberweis vs. Durbin', 1.8530410813691141),\n",
        " (u'2014 Texas Senate', 2.4681459030438875),\n",
        " (u'2014 Rhode Island Senate: Zaccaria vs. Reed', 0.82511756195770958),\n",
        " (u'2014 Colorado Senate', 0.90941329226366985),\n",
        " (u'2014 Wyoming Senate', 0.42149046592788153),\n",
        " (u'2014 New Mexico Senate', 0.85045944584086097),\n",
        " (u'2014 Minnesota Senate', 1.258038458028691),\n",
        " (u'2014 Michigan Senate', 0.95569351165443006),\n",
        " (u'2014 North Carolina Senate', 0.87442244381102907),\n",
        " (u'2014 Kentucky Senate', 1.0803831777523674),\n",
        " (u'2014 Tennessee Senate', 1.0560299724454449),\n",
        " (u'2014 Maine Senate', 0.84808475182663556),\n",
        " (u'2014 Oklahoma Senate: Lankford vs. Johnson', 1.073397137624108),\n",
        " (u'2014 Hawaii Senate', 1.020631082196078),\n",
        " (u'2014 Nebraska Senate: Sasse vs. Domina', 0.83805432785610146)]"
       ]
      }
     ],
     "prompt_number": 28
    },
    {
     "cell_type": "markdown",
     "metadata": {},
     "source": [
      "** Your answer here: ** Out initial thought was that the outliers were related to the number of polls. In general, we can see that races with greater number of polls do tend to cluster together, and in general have lower variability; but as the output above shows, this does not fully explain the outliers.\n",
      "\n",
      "We can also see from the output above that the number of observations does not seem to be the cause of the difference, since both the extreme outliers have a number of observations that is close to the mean.\n",
      "\n",
      "Even though there are more variables that could be explored (e.g. poll method, etc), there is a good possibility that the variance is due to pollster bias."
     ]
    },
    {
     "cell_type": "markdown",
     "metadata": {},
     "source": [
      "#### Problem 2(f)\n",
      "\n",
      " Construct confidence intervals for the difference in each race. Use either theoretical or data driven estimates of the standard error depending on your answer to this question. Use the results in Problem 2(e), to justify your choice.\n"
     ]
    },
    {
     "cell_type": "code",
     "collapsed": false,
     "input": [
      "ci = lambda race: (stats.t.interval(.99, race[\"Polls\"] - 1,\n",
      "                                    loc=race[\"Percentage\"],\n",
      "                                    scale=race[\"Theoretical\"]))\n",
      "final_errors = recent_errors.drop(\"Observed\", axis=1)\n",
      "final_errors[\"CI\"] = final_errors.apply(ci, axis=1)\n",
      "final_errors.head()"
     ],
     "language": "python",
     "metadata": {},
     "outputs": [
      {
       "html": [
        "<div style=\"max-height:1000px;max-width:1500px;overflow:auto;\">\n",
        "<table border=\"1\" class=\"dataframe\">\n",
        "  <thead>\n",
        "    <tr style=\"text-align: right;\">\n",
        "      <th></th>\n",
        "      <th>Candidate</th>\n",
        "      <th>State</th>\n",
        "      <th>Percentage</th>\n",
        "      <th>Theoretical</th>\n",
        "      <th>Polls</th>\n",
        "      <th>CI</th>\n",
        "    </tr>\n",
        "  </thead>\n",
        "  <tbody>\n",
        "    <tr>\n",
        "      <th>0</th>\n",
        "      <td>   Wade</td>\n",
        "      <td> DE</td>\n",
        "      <td> 0.325000</td>\n",
        "      <td> 0.019311</td>\n",
        "      <td> 4</td>\n",
        "      <td> (0.212203770815, 0.437796229185)</td>\n",
        "    </tr>\n",
        "    <tr>\n",
        "      <th>1</th>\n",
        "      <td> Daines</td>\n",
        "      <td> MT</td>\n",
        "      <td> 0.530000</td>\n",
        "      <td> 0.022001</td>\n",
        "      <td> 5</td>\n",
        "      <td> (0.428707222152, 0.631292777848)</td>\n",
        "    </tr>\n",
        "    <tr>\n",
        "      <th>2</th>\n",
        "      <td> Inhofe</td>\n",
        "      <td> OK</td>\n",
        "      <td> 0.643333</td>\n",
        "      <td> 0.014770</td>\n",
        "      <td> 3</td>\n",
        "      <td>  (0.49674315074, 0.789923515927)</td>\n",
        "    </tr>\n",
        "    <tr>\n",
        "      <th>3</th>\n",
        "      <td>   Bell</td>\n",
        "      <td> NJ</td>\n",
        "      <td> 0.375714</td>\n",
        "      <td> 0.016311</td>\n",
        "      <td> 7</td>\n",
        "      <td> (0.315242257955, 0.436186313473)</td>\n",
        "    </tr>\n",
        "    <tr>\n",
        "      <th>4</th>\n",
        "      <td>  Risch</td>\n",
        "      <td> ID</td>\n",
        "      <td> 0.583333</td>\n",
        "      <td> 0.020640</td>\n",
        "      <td> 3</td>\n",
        "      <td> (0.378485818699, 0.788180847968)</td>\n",
        "    </tr>\n",
        "  </tbody>\n",
        "</table>\n",
        "</div>"
       ],
       "metadata": {},
       "output_type": "pyout",
       "prompt_number": 29,
       "text": [
        "  Candidate State  Percentage  Theoretical  Polls  \\\n",
        "0      Wade    DE    0.325000     0.019311      4   \n",
        "1    Daines    MT    0.530000     0.022001      5   \n",
        "2    Inhofe    OK    0.643333     0.014770      3   \n",
        "3      Bell    NJ    0.375714     0.016311      7   \n",
        "4     Risch    ID    0.583333     0.020640      3   \n",
        "\n",
        "                                 CI  \n",
        "0  (0.212203770815, 0.437796229185)  \n",
        "1  (0.428707222152, 0.631292777848)  \n",
        "2   (0.49674315074, 0.789923515927)  \n",
        "3  (0.315242257955, 0.436186313473)  \n",
        "4  (0.378485818699, 0.788180847968)  "
       ]
      }
     ],
     "prompt_number": 29
    },
    {
     "cell_type": "markdown",
     "metadata": {},
     "source": [
      "The current hypothesis for the cause of the observed variance is that it is due to pollster bias. Since it would be very hard to compensate for that without an extensive historical analysis of the pollster, it makes sense to use the theoretical data to estimate the CI."
     ]
    },
    {
     "cell_type": "markdown",
     "metadata": {},
     "source": [
      "# Problem 3: Prediction and Posterior Probabilities\n",
      "\n",
      "Perform a Bayesian analysis to predict the probability of Republicans winning in each state then provide a posterior distribution of the number of republicans in the senate."
     ]
    },
    {
     "cell_type": "markdown",
     "metadata": {},
     "source": [
      "#### Problem 3(a)\n",
      "\n",
      "First, we define a Bayesian model for each race. The prior for the difference $\\theta$ between republicans and democtrats will be $N(\\mu,\\tau^2)$. Say before seeing poll data you have no idea who is going to win, what should $\\mu$ be? How about $\\tau$, should it be large or small? "
     ]
    },
    {
     "cell_type": "markdown",
     "metadata": {},
     "source": [
      "** Your answer here: ** In this case $\\mu$ should be 0, indicating that both candidates have the same chance of winning and therefore the difference $\\theta$ should be 0 in average. Also, the standard deviation $\\tau$ should be large, since we have to cover all possible cases."
     ]
    },
    {
     "cell_type": "markdown",
     "metadata": {},
     "source": [
      "#### Problem 3(b)\n",
      "\n",
      "What is the distribution of $d$ conditioned on $\\theta$. What is the posterior distribution of $\\theta | d$? \n",
      "\n",
      "**Hint**: Use normal approximation. "
     ]
    },
    {
     "cell_type": "markdown",
     "metadata": {},
     "source": [
      "**Your answer here:**\n",
      "\n",
      "$\\theta \\sim (0, \\tau^2)$\n",
      "\n",
      "$\\theta|d = B \\mu + (1-B) d$\n",
      "\n",
      "$B = \\frac{\\sigma^2}{\\sigma^2+\\tau^2}$"
     ]
    },
    {
     "cell_type": "markdown",
     "metadata": {},
     "source": [
      "#### Problem 3(c)\n",
      "\n",
      "The prior represents what we think before hand. We do not know who is expected to win, so we assume $\\mu=0$. For this problem estimate $\\tau$ using the observed differences across states (Hint: $\\tau$ represents the standard deviation of a typical difference). Compute the posterior mean for each state and plot it against original average. Is there much change? Why or why not? "
     ]
    },
    {
     "cell_type": "code",
     "collapsed": false,
     "input": [
      "mean_diffs = []\n",
      "error_diffs = []\n",
      "for _, poll in polls.items():\n",
      "    rep = poll.columns.intersection(candidates[\"R\"])[0]\n",
      "    dem = poll.columns.intersection(candidates[\"D\"])[0]\n",
      "    mean_diffs.append((poll[rep].astype(np.float) - poll[dem].astype(np.float)).mean() / 100)\n",
      "    error_diffs.append((poll[rep].astype(np.float) - poll[dem].astype(np.float)).std() / 100)\n",
      "final_errors[\"MeanDiff\"] = mean_diffs\n",
      "final_errors[\"ErrorDiff\"] = error_diffs\n",
      "final_errors.head()"
     ],
     "language": "python",
     "metadata": {},
     "outputs": [
      {
       "html": [
        "<div style=\"max-height:1000px;max-width:1500px;overflow:auto;\">\n",
        "<table border=\"1\" class=\"dataframe\">\n",
        "  <thead>\n",
        "    <tr style=\"text-align: right;\">\n",
        "      <th></th>\n",
        "      <th>Candidate</th>\n",
        "      <th>State</th>\n",
        "      <th>Percentage</th>\n",
        "      <th>Theoretical</th>\n",
        "      <th>Polls</th>\n",
        "      <th>CI</th>\n",
        "      <th>MeanDiff</th>\n",
        "      <th>ErrorDiff</th>\n",
        "    </tr>\n",
        "  </thead>\n",
        "  <tbody>\n",
        "    <tr>\n",
        "      <th>0</th>\n",
        "      <td>   Wade</td>\n",
        "      <td> DE</td>\n",
        "      <td> 0.325000</td>\n",
        "      <td> 0.019311</td>\n",
        "      <td> 4</td>\n",
        "      <td> (0.212203770815, 0.437796229185)</td>\n",
        "      <td>-0.174000</td>\n",
        "      <td> 0.046152</td>\n",
        "    </tr>\n",
        "    <tr>\n",
        "      <th>1</th>\n",
        "      <td> Daines</td>\n",
        "      <td> MT</td>\n",
        "      <td> 0.530000</td>\n",
        "      <td> 0.022001</td>\n",
        "      <td> 5</td>\n",
        "      <td> (0.428707222152, 0.631292777848)</td>\n",
        "      <td> 0.171429</td>\n",
        "      <td> 0.029681</td>\n",
        "    </tr>\n",
        "    <tr>\n",
        "      <th>2</th>\n",
        "      <td> Inhofe</td>\n",
        "      <td> OK</td>\n",
        "      <td> 0.643333</td>\n",
        "      <td> 0.014770</td>\n",
        "      <td> 3</td>\n",
        "      <td>  (0.49674315074, 0.789923515927)</td>\n",
        "      <td> 0.333333</td>\n",
        "      <td> 0.059889</td>\n",
        "    </tr>\n",
        "    <tr>\n",
        "      <th>3</th>\n",
        "      <td>   Bell</td>\n",
        "      <td> NJ</td>\n",
        "      <td> 0.375714</td>\n",
        "      <td> 0.016311</td>\n",
        "      <td> 7</td>\n",
        "      <td> (0.315242257955, 0.436186313473)</td>\n",
        "      <td>-0.140769</td>\n",
        "      <td> 0.043101</td>\n",
        "    </tr>\n",
        "    <tr>\n",
        "      <th>4</th>\n",
        "      <td>  Risch</td>\n",
        "      <td> ID</td>\n",
        "      <td> 0.583333</td>\n",
        "      <td> 0.020640</td>\n",
        "      <td> 3</td>\n",
        "      <td> (0.378485818699, 0.788180847968)</td>\n",
        "      <td> 0.298333</td>\n",
        "      <td> 0.070828</td>\n",
        "    </tr>\n",
        "  </tbody>\n",
        "</table>\n",
        "</div>"
       ],
       "metadata": {},
       "output_type": "pyout",
       "prompt_number": 30,
       "text": [
        "  Candidate State  Percentage  Theoretical  Polls  \\\n",
        "0      Wade    DE    0.325000     0.019311      4   \n",
        "1    Daines    MT    0.530000     0.022001      5   \n",
        "2    Inhofe    OK    0.643333     0.014770      3   \n",
        "3      Bell    NJ    0.375714     0.016311      7   \n",
        "4     Risch    ID    0.583333     0.020640      3   \n",
        "\n",
        "                                 CI  MeanDiff  ErrorDiff  \n",
        "0  (0.212203770815, 0.437796229185) -0.174000   0.046152  \n",
        "1  (0.428707222152, 0.631292777848)  0.171429   0.029681  \n",
        "2   (0.49674315074, 0.789923515927)  0.333333   0.059889  \n",
        "3  (0.315242257955, 0.436186313473) -0.140769   0.043101  \n",
        "4  (0.378485818699, 0.788180847968)  0.298333   0.070828  "
       ]
      }
     ],
     "prompt_number": 30
    },
    {
     "cell_type": "code",
     "collapsed": false,
     "input": [
      "tau = final_errors[\"MeanDiff\"].std()\n",
      "tau"
     ],
     "language": "python",
     "metadata": {},
     "outputs": [
      {
       "metadata": {},
       "output_type": "pyout",
       "prompt_number": 31,
       "text": [
        "0.19879748668633637"
       ]
      }
     ],
     "prompt_number": 31
    },
    {
     "cell_type": "markdown",
     "metadata": {},
     "source": [
      "$\\theta \\sim (0, .199^2)$"
     ]
    },
    {
     "cell_type": "code",
     "collapsed": false,
     "input": [
      "def posterior(x):\n",
      "    B = x[\"ErrorDiff\"]**2 / (x[\"ErrorDiff\"]**2 + tau**2)\n",
      "    E = B*0 + (1 - B)*x[\"MeanDiff\"]\n",
      "    sd = np.sqrt(1/((1/x[\"ErrorDiff\"]**2) + (1/tau**2)))\n",
      "    return E, sd\n",
      "posteriors = final_errors.merge(pd.DataFrame([{\"PostMean\": m, \"PostError\": e}\n",
      "                                              for m, e in final_errors.apply(posterior, axis=1)]),\n",
      "                                left_index=True, right_index=True)\n",
      "posteriors.head()"
     ],
     "language": "python",
     "metadata": {},
     "outputs": [
      {
       "html": [
        "<div style=\"max-height:1000px;max-width:1500px;overflow:auto;\">\n",
        "<table border=\"1\" class=\"dataframe\">\n",
        "  <thead>\n",
        "    <tr style=\"text-align: right;\">\n",
        "      <th></th>\n",
        "      <th>Candidate</th>\n",
        "      <th>State</th>\n",
        "      <th>Percentage</th>\n",
        "      <th>Theoretical</th>\n",
        "      <th>Polls</th>\n",
        "      <th>CI</th>\n",
        "      <th>MeanDiff</th>\n",
        "      <th>ErrorDiff</th>\n",
        "      <th>PostError</th>\n",
        "      <th>PostMean</th>\n",
        "    </tr>\n",
        "  </thead>\n",
        "  <tbody>\n",
        "    <tr>\n",
        "      <th>0</th>\n",
        "      <td>   Wade</td>\n",
        "      <td> DE</td>\n",
        "      <td> 0.325000</td>\n",
        "      <td> 0.019311</td>\n",
        "      <td> 4</td>\n",
        "      <td> (0.212203770815, 0.437796229185)</td>\n",
        "      <td>-0.174000</td>\n",
        "      <td> 0.046152</td>\n",
        "      <td> 0.044956</td>\n",
        "      <td>-0.165102</td>\n",
        "    </tr>\n",
        "    <tr>\n",
        "      <th>1</th>\n",
        "      <td> Daines</td>\n",
        "      <td> MT</td>\n",
        "      <td> 0.530000</td>\n",
        "      <td> 0.022001</td>\n",
        "      <td> 5</td>\n",
        "      <td> (0.428707222152, 0.631292777848)</td>\n",
        "      <td> 0.171429</td>\n",
        "      <td> 0.029681</td>\n",
        "      <td> 0.029355</td>\n",
        "      <td> 0.167691</td>\n",
        "    </tr>\n",
        "    <tr>\n",
        "      <th>2</th>\n",
        "      <td> Inhofe</td>\n",
        "      <td> OK</td>\n",
        "      <td> 0.643333</td>\n",
        "      <td> 0.014770</td>\n",
        "      <td> 3</td>\n",
        "      <td>  (0.49674315074, 0.789923515927)</td>\n",
        "      <td> 0.333333</td>\n",
        "      <td> 0.059889</td>\n",
        "      <td> 0.057343</td>\n",
        "      <td> 0.305599</td>\n",
        "    </tr>\n",
        "    <tr>\n",
        "      <th>3</th>\n",
        "      <td>   Bell</td>\n",
        "      <td> NJ</td>\n",
        "      <td> 0.375714</td>\n",
        "      <td> 0.016311</td>\n",
        "      <td> 7</td>\n",
        "      <td> (0.315242257955, 0.436186313473)</td>\n",
        "      <td>-0.140769</td>\n",
        "      <td> 0.043101</td>\n",
        "      <td> 0.042122</td>\n",
        "      <td>-0.134449</td>\n",
        "    </tr>\n",
        "    <tr>\n",
        "      <th>4</th>\n",
        "      <td>  Risch</td>\n",
        "      <td> ID</td>\n",
        "      <td> 0.583333</td>\n",
        "      <td> 0.020640</td>\n",
        "      <td> 3</td>\n",
        "      <td> (0.378485818699, 0.788180847968)</td>\n",
        "      <td> 0.298333</td>\n",
        "      <td> 0.070828</td>\n",
        "      <td> 0.066720</td>\n",
        "      <td> 0.264729</td>\n",
        "    </tr>\n",
        "  </tbody>\n",
        "</table>\n",
        "</div>"
       ],
       "metadata": {},
       "output_type": "pyout",
       "prompt_number": 34,
       "text": [
        "  Candidate State  Percentage  Theoretical  Polls  \\\n",
        "0      Wade    DE    0.325000     0.019311      4   \n",
        "1    Daines    MT    0.530000     0.022001      5   \n",
        "2    Inhofe    OK    0.643333     0.014770      3   \n",
        "3      Bell    NJ    0.375714     0.016311      7   \n",
        "4     Risch    ID    0.583333     0.020640      3   \n",
        "\n",
        "                                 CI  MeanDiff  ErrorDiff  PostError  PostMean  \n",
        "0  (0.212203770815, 0.437796229185) -0.174000   0.046152   0.044956 -0.165102  \n",
        "1  (0.428707222152, 0.631292777848)  0.171429   0.029681   0.029355  0.167691  \n",
        "2   (0.49674315074, 0.789923515927)  0.333333   0.059889   0.057343  0.305599  \n",
        "3  (0.315242257955, 0.436186313473) -0.140769   0.043101   0.042122 -0.134449  \n",
        "4  (0.378485818699, 0.788180847968)  0.298333   0.070828   0.066720  0.264729  "
       ]
      }
     ],
     "prompt_number": 34
    },
    {
     "cell_type": "code",
     "collapsed": false,
     "input": [
      "min_observed = min([min(posteriors[\"PostMean\"]), min(posteriors[\"MeanDiff\"])])*1.1\n",
      "max_observed = max([max(posteriors[\"PostMean\"]), max(posteriors[\"MeanDiff\"])])*1.1\n",
      "\n",
      "plt.figure(figsize=(10, 8))\n",
      "plt.scatter(posteriors[\"MeanDiff\"], posteriors[\"PostMean\"])\n",
      "plt.plot(np.linspace(min_observed, max_observed, 100),\n",
      "         np.linspace(min_observed, max_observed, 100), color='r')\n",
      "plt.axis([min_observed, max_observed, min_observed, max_observed])\n",
      "plt.xlabel(\"Originals\")\n",
      "plt.ylabel(\"Posteriors\")\n",
      "plt.show()"
     ],
     "language": "python",
     "metadata": {},
     "outputs": [
      {
       "metadata": {},
       "output_type": "display_data",
       "png": "[encoded data removed]",
       "text": [
        "<matplotlib.figure.Figure at 0x1143a61d0>"
       ]
      }
     ],
     "prompt_number": 35
    },
    {
     "cell_type": "markdown",
     "metadata": {},
     "source": [
      "**Your answer here:** As we can see from the plot, there isn't much change between the original averages and the posterior. This is expected since most races are closely contested, and even on the ones where there is a clear favorite, the spread of points is usually not very big."
     ]
    },
    {
     "cell_type": "markdown",
     "metadata": {},
     "source": [
      "#### Problem 3(d)\n",
      "\n",
      "For each state, report a probabilty of Republicans winning. How does your answer here compare to the other aggregators?"
     ]
    },
    {
     "cell_type": "code",
     "collapsed": false,
     "input": [
      "# Average pollster bias according to http://fivethirtyeight.blogs.nytimes.com/2012/11/10/which-polls-fared-best-and-worst-in-the-2012-presidential-race/.\n",
      "bias = 0.013\n",
      "posteriors[\"ProbWin\"] = 1 - stats.norm.cdf(0, loc=posteriors[\"PostMean\"], scale=posteriors[\"PostError\"]+bias).round(3)\n",
      "posteriors[[\"Candidate\", \"State\", \"ProbWin\"]].sort(\"State\")"
     ],
     "language": "python",
     "metadata": {},
     "outputs": [
      {
       "html": [
        "<div style=\"max-height:1000px;max-width:1500px;overflow:auto;\">\n",
        "<table border=\"1\" class=\"dataframe\">\n",
        "  <thead>\n",
        "    <tr style=\"text-align: right;\">\n",
        "      <th></th>\n",
        "      <th>Candidate</th>\n",
        "      <th>State</th>\n",
        "      <th>ProbWin</th>\n",
        "    </tr>\n",
        "  </thead>\n",
        "  <tbody>\n",
        "    <tr>\n",
        "      <th>9 </th>\n",
        "      <td>  Sullivan</td>\n",
        "      <td> AK</td>\n",
        "      <td> 0.477</td>\n",
        "    </tr>\n",
        "    <tr>\n",
        "      <th>6 </th>\n",
        "      <td>    Cotton</td>\n",
        "      <td> AR</td>\n",
        "      <td> 0.592</td>\n",
        "    </tr>\n",
        "    <tr>\n",
        "      <th>24</th>\n",
        "      <td>   Gardner</td>\n",
        "      <td> CO</td>\n",
        "      <td> 0.542</td>\n",
        "    </tr>\n",
        "    <tr>\n",
        "      <th>0 </th>\n",
        "      <td>      Wade</td>\n",
        "      <td> DE</td>\n",
        "      <td> 0.002</td>\n",
        "    </tr>\n",
        "    <tr>\n",
        "      <th>7 </th>\n",
        "      <td>    Perdue</td>\n",
        "      <td> GA</td>\n",
        "      <td> 0.616</td>\n",
        "    </tr>\n",
        "    <tr>\n",
        "      <th>33</th>\n",
        "      <td>   Cavasso</td>\n",
        "      <td> HI</td>\n",
        "      <td> 0.001</td>\n",
        "    </tr>\n",
        "    <tr>\n",
        "      <th>12</th>\n",
        "      <td>     Ernst</td>\n",
        "      <td> IA</td>\n",
        "      <td> 0.495</td>\n",
        "    </tr>\n",
        "    <tr>\n",
        "      <th>4 </th>\n",
        "      <td>     Risch</td>\n",
        "      <td> ID</td>\n",
        "      <td> 1.000</td>\n",
        "    </tr>\n",
        "    <tr>\n",
        "      <th>16</th>\n",
        "      <td>  Oberweis</td>\n",
        "      <td> IL</td>\n",
        "      <td> 0.013</td>\n",
        "    </tr>\n",
        "    <tr>\n",
        "      <th>5 </th>\n",
        "      <td>   Roberts</td>\n",
        "      <td> KS</td>\n",
        "      <td> 0.545</td>\n",
        "    </tr>\n",
        "    <tr>\n",
        "      <th>30</th>\n",
        "      <td> McConnell</td>\n",
        "      <td> KY</td>\n",
        "      <td> 0.718</td>\n",
        "    </tr>\n",
        "    <tr>\n",
        "      <th>14</th>\n",
        "      <td>   Cassidy</td>\n",
        "      <td> LA</td>\n",
        "      <td> 0.566</td>\n",
        "    </tr>\n",
        "    <tr>\n",
        "      <th>19</th>\n",
        "      <td>      Herr</td>\n",
        "      <td> MA</td>\n",
        "      <td> 0.000</td>\n",
        "    </tr>\n",
        "    <tr>\n",
        "      <th>31</th>\n",
        "      <td>   Collins</td>\n",
        "      <td> ME</td>\n",
        "      <td> 0.998</td>\n",
        "    </tr>\n",
        "    <tr>\n",
        "      <th>28</th>\n",
        "      <td>      Land</td>\n",
        "      <td> MI</td>\n",
        "      <td> 0.216</td>\n",
        "    </tr>\n",
        "    <tr>\n",
        "      <th>27</th>\n",
        "      <td>  McFadden</td>\n",
        "      <td> MN</td>\n",
        "      <td> 0.016</td>\n",
        "    </tr>\n",
        "    <tr>\n",
        "      <th>18</th>\n",
        "      <td>   Cochran</td>\n",
        "      <td> MS</td>\n",
        "      <td> 0.999</td>\n",
        "    </tr>\n",
        "    <tr>\n",
        "      <th>1 </th>\n",
        "      <td>    Daines</td>\n",
        "      <td> MT</td>\n",
        "      <td> 1.000</td>\n",
        "    </tr>\n",
        "    <tr>\n",
        "      <th>29</th>\n",
        "      <td>    Tillis</td>\n",
        "      <td> NC</td>\n",
        "      <td> 0.312</td>\n",
        "    </tr>\n",
        "    <tr>\n",
        "      <th>34</th>\n",
        "      <td>     Sasse</td>\n",
        "      <td> NE</td>\n",
        "      <td> 1.000</td>\n",
        "    </tr>\n",
        "    <tr>\n",
        "      <th>11</th>\n",
        "      <td>     Brown</td>\n",
        "      <td> NH</td>\n",
        "      <td> 0.176</td>\n",
        "    </tr>\n",
        "    <tr>\n",
        "      <th>3 </th>\n",
        "      <td>      Bell</td>\n",
        "      <td> NJ</td>\n",
        "      <td> 0.007</td>\n",
        "    </tr>\n",
        "    <tr>\n",
        "      <th>26</th>\n",
        "      <td>       Weh</td>\n",
        "      <td> NM</td>\n",
        "      <td> 0.015</td>\n",
        "    </tr>\n",
        "    <tr>\n",
        "      <th>2 </th>\n",
        "      <td>    Inhofe</td>\n",
        "      <td> OK</td>\n",
        "      <td> 1.000</td>\n",
        "    </tr>\n",
        "    <tr>\n",
        "      <th>32</th>\n",
        "      <td>  Lankford</td>\n",
        "      <td> OK</td>\n",
        "      <td> 1.000</td>\n",
        "    </tr>\n",
        "    <tr>\n",
        "      <th>10</th>\n",
        "      <td>     Wehby</td>\n",
        "      <td> OR</td>\n",
        "      <td> 0.057</td>\n",
        "    </tr>\n",
        "    <tr>\n",
        "      <th>23</th>\n",
        "      <td>  Zaccaria</td>\n",
        "      <td> RI</td>\n",
        "      <td> 0.007</td>\n",
        "    </tr>\n",
        "    <tr>\n",
        "      <th>15</th>\n",
        "      <td>    Graham</td>\n",
        "      <td> SC</td>\n",
        "      <td> 1.000</td>\n",
        "    </tr>\n",
        "    <tr>\n",
        "      <th>20</th>\n",
        "      <td>     Scott</td>\n",
        "      <td> SC</td>\n",
        "      <td> 1.000</td>\n",
        "    </tr>\n",
        "    <tr>\n",
        "      <th>13</th>\n",
        "      <td>    Rounds</td>\n",
        "      <td> SD</td>\n",
        "      <td> 0.957</td>\n",
        "    </tr>\n",
        "    <tr>\n",
        "      <th>8 </th>\n",
        "      <td> Alexander</td>\n",
        "      <td> TN</td>\n",
        "      <td> 0.999</td>\n",
        "    </tr>\n",
        "    <tr>\n",
        "      <th>22</th>\n",
        "      <td>    Cornyn</td>\n",
        "      <td> TX</td>\n",
        "      <td> 1.000</td>\n",
        "    </tr>\n",
        "    <tr>\n",
        "      <th>21</th>\n",
        "      <td> Gillespie</td>\n",
        "      <td> VA</td>\n",
        "      <td> 0.034</td>\n",
        "    </tr>\n",
        "    <tr>\n",
        "      <th>17</th>\n",
        "      <td>    Capito</td>\n",
        "      <td> WV</td>\n",
        "      <td> 0.965</td>\n",
        "    </tr>\n",
        "    <tr>\n",
        "      <th>25</th>\n",
        "      <td>      Enzi</td>\n",
        "      <td> WY</td>\n",
        "      <td> 1.000</td>\n",
        "    </tr>\n",
        "  </tbody>\n",
        "</table>\n",
        "</div>"
       ],
       "metadata": {},
       "output_type": "pyout",
       "prompt_number": 36,
       "text": [
        "    Candidate State  ProbWin\n",
        "9    Sullivan    AK    0.477\n",
        "6      Cotton    AR    0.592\n",
        "24    Gardner    CO    0.542\n",
        "0        Wade    DE    0.002\n",
        "7      Perdue    GA    0.616\n",
        "33    Cavasso    HI    0.001\n",
        "12      Ernst    IA    0.495\n",
        "4       Risch    ID    1.000\n",
        "16   Oberweis    IL    0.013\n",
        "5     Roberts    KS    0.545\n",
        "30  McConnell    KY    0.718\n",
        "14    Cassidy    LA    0.566\n",
        "19       Herr    MA    0.000\n",
        "31    Collins    ME    0.998\n",
        "28       Land    MI    0.216\n",
        "27   McFadden    MN    0.016\n",
        "18    Cochran    MS    0.999\n",
        "1      Daines    MT    1.000\n",
        "29     Tillis    NC    0.312\n",
        "34      Sasse    NE    1.000\n",
        "11      Brown    NH    0.176\n",
        "3        Bell    NJ    0.007\n",
        "26        Weh    NM    0.015\n",
        "2      Inhofe    OK    1.000\n",
        "32   Lankford    OK    1.000\n",
        "10      Wehby    OR    0.057\n",
        "23   Zaccaria    RI    0.007\n",
        "15     Graham    SC    1.000\n",
        "20      Scott    SC    1.000\n",
        "13     Rounds    SD    0.957\n",
        "8   Alexander    TN    0.999\n",
        "22     Cornyn    TX    1.000\n",
        "21  Gillespie    VA    0.034\n",
        "17     Capito    WV    0.965\n",
        "25       Enzi    WY    1.000"
       ]
      }
     ],
     "prompt_number": 36
    },
    {
     "cell_type": "markdown",
     "metadata": {},
     "source": [
      "**Your answer here:** Our findings here seem to be inline with the New York Times predictions (http://www.nytimes.com/newsgraphics/2014/senate-model/). There are some significant differences on the competitive states, but that is probably due to the fact that they have much more information to work with (and much better statisticians)."
     ]
    },
    {
     "cell_type": "markdown",
     "metadata": {},
     "source": [
      "#### Problem 3(e)\n",
      "\n",
      "Use the posterior distributions in a Monte Carlo simulation to generate election results. In each simulation compute the total number of seats the Republican control. Show a histogram of these results."
     ]
    },
    {
     "cell_type": "code",
     "collapsed": false,
     "input": [
      "# Average number of observations across races.\n",
      "N = np.mean(mean_obs.values())\n",
      "# Number of seats not up for election.\n",
      "not_up = 30\n",
      "\n",
      "seats = [sum(posteriors.apply(lambda x: np.random.binomial(N, p=x[\"ProbWin\"])/N, axis=1) > .5) + not_up for _ in xrange(1000)]\n",
      "seats[:10]"
     ],
     "language": "python",
     "metadata": {},
     "outputs": [
      {
       "metadata": {},
       "output_type": "pyout",
       "prompt_number": 37,
       "text": [
        "[51, 51, 51, 51, 51, 50, 50, 51, 50, 51]"
       ]
      }
     ],
     "prompt_number": 37
    },
    {
     "cell_type": "code",
     "collapsed": false,
     "input": [
      "plt.figure(figsize=(10, 8))\n",
      "# the histogram of the data\n",
      "n, bins, patches = plt.hist(seats)\n",
      "plt.title(\"Total Republican Seats\")\n",
      "plt.ylabel(\"Seats\")\n",
      "plt.show()"
     ],
     "language": "python",
     "metadata": {},
     "outputs": [
      {
       "metadata": {},
       "output_type": "display_data",
       "png": "[encoded data removed]",
       "text": [
        "<matplotlib.figure.Figure at 0x1142a2ed0>"
       ]
      }
     ],
     "prompt_number": 38
    },
    {
     "cell_type": "markdown",
     "metadata": {},
     "source": [
      "## Problem 4\n",
      "\n",
      "Predict the results for the 2014 Midterm Elections. We will have a three competitions with the terms for scoring entries described above. For both questions below, **explain** or provide commentary on how you arrived at your predictions including code. \n",
      "\n",
      "**Hint**: Use election results from 2010, 2012 to build and test models."
     ]
    },
    {
     "cell_type": "markdown",
     "metadata": {},
     "source": [
      "#### Problem 4(a)\n",
      "\n",
      "Predict the number of Republican senators. You may provide an interval. Smallest interval that includes the election day result wins. \n",
      "\n",
      "**Note**: we want the total so add the numbers of those that are not up for election."
     ]
    },
    {
     "cell_type": "code",
     "collapsed": false,
     "input": [
      "from collections import defaultdict\n",
      "from sklearn.naive_bayes import GaussianNB, MultinomialNB\n",
      "import datetime as dt"
     ],
     "language": "python",
     "metadata": {},
     "outputs": [],
     "prompt_number": 40
    },
    {
     "cell_type": "code",
     "collapsed": false,
     "input": [
      "# Get Federal Information Processing Standard state codes.\n",
      "url = \"http://www.census.gov/2010census/xls/fips_codes_website.xls\"\n",
      "fips_codes = pd.read_excel(url).reindex(columns=[\"State Abbreviation\", \"State FIPS Code\"]).drop_duplicates().reset_index(drop=True)\n",
      "fips_codes.head()"
     ],
     "language": "python",
     "metadata": {},
     "outputs": [
      {
       "html": [
        "<div style=\"max-height:1000px;max-width:1500px;overflow:auto;\">\n",
        "<table border=\"1\" class=\"dataframe\">\n",
        "  <thead>\n",
        "    <tr style=\"text-align: right;\">\n",
        "      <th></th>\n",
        "      <th>State Abbreviation</th>\n",
        "      <th>State FIPS Code</th>\n",
        "    </tr>\n",
        "  </thead>\n",
        "  <tbody>\n",
        "    <tr>\n",
        "      <th>0</th>\n",
        "      <td> AL</td>\n",
        "      <td> 1</td>\n",
        "    </tr>\n",
        "    <tr>\n",
        "      <th>1</th>\n",
        "      <td> AK</td>\n",
        "      <td> 2</td>\n",
        "    </tr>\n",
        "    <tr>\n",
        "      <th>2</th>\n",
        "      <td> AZ</td>\n",
        "      <td> 4</td>\n",
        "    </tr>\n",
        "    <tr>\n",
        "      <th>3</th>\n",
        "      <td> AR</td>\n",
        "      <td> 5</td>\n",
        "    </tr>\n",
        "    <tr>\n",
        "      <th>4</th>\n",
        "      <td> CA</td>\n",
        "      <td> 6</td>\n",
        "    </tr>\n",
        "  </tbody>\n",
        "</table>\n",
        "</div>"
       ],
       "metadata": {},
       "output_type": "pyout",
       "prompt_number": 41,
       "text": [
        "  State Abbreviation  State FIPS Code\n",
        "0                 AL                1\n",
        "1                 AK                2\n",
        "2                 AZ                4\n",
        "3                 AR                5\n",
        "4                 CA                6"
       ]
      }
     ],
     "prompt_number": 41
    },
    {
     "cell_type": "code",
     "collapsed": false,
     "input": [
      "# This function takes a year and a list of states won by republicans (training/testing data).\n",
      "# It returns two arrays with the following parameters for each poll:\n",
      "# * Difference between republican and leading non-republican candidates (cont);\n",
      "# * Number of days from the end of the poll to the day of the election (cont);\n",
      "# * Number from FIPS table representing the state (categ);\n",
      "# * Pollster name (categ);\n",
      "##\n",
      "# Pollsters needs to be a global variable so it can hold state between function calls.\n",
      "pollsters = []\n",
      "def prep_senate_data(year, republican_wins=[]):\n",
      "    # GaussianNB can only handle continuous variables...\n",
      "    cont_params = []\n",
      "    # so we created another list to hold categorical variables for MultinomialNB.\n",
      "    categ_params = []\n",
      "    labels = [] # y should be ignored for prediction data!\n",
      "    for race in get(\"http://elections.huffingtonpost.com/pollster/api/charts.json?topic={}-senate&showall=false\".format(year)).json():\n",
      "        # Get election date.\n",
      "        election_date = dt.datetime.strptime(race[\"election_date\"], \"%Y-%m-%d\")\n",
      "        # Dictionary with candidate last name and party affiliation.\n",
      "        affiliation = {candidate[\"choice\"]: candidate[\"party\"][0].upper()\n",
      "                       for candidate in race[\"estimates\"]\n",
      "                       if candidate[\"choice\"] and candidate[\"party\"]}\n",
      "        for poll in get(race[\"url\"] + \".json\").json()[\"polls\"]:\n",
      "            # Get the poll date and calculate number of days from election.\n",
      "            poll_date = dt.datetime.strptime(poll[\"enddate\"], \"%Y-%m-%d\")\n",
      "            days_from_election = (election_date - poll_date).days\n",
      "            # Hold non-republica state.\n",
      "            leading_non_republican_votes = 0.0\n",
      "            for candidate, votes in poll[\"choices\"].iteritems():\n",
      "                votes = np.float64(votes)\n",
      "                if candidate in affiliation and affiliation[candidate] == \"R\":\n",
      "                    republican = votes\n",
      "                # Get non-republican with highest vote percentage.\n",
      "                elif votes > leading_non_republican_votes:\n",
      "                    leading_non_republican_votes = votes\n",
      "            # Get vote diff, days from election, state code, number of observations, and pollster id.\n",
      "            votes_diff = republican - leading_non_republican_votes\n",
      "            state_code = fips_codes[fips_codes[\"State Abbreviation\"] == race[\"state\"]][\"State FIPS Code\"].values[0]\n",
      "            pollster = poll[\"pollster\"]\n",
      "            # Check if we know the pollster already.\n",
      "            if not pollster in pollsters:\n",
      "                pollsters.append(pollster)\n",
      "            pollster_id = pollsters.index(pollster)\n",
      "            # Populate return lists.\n",
      "            cont_params.append([votes_diff, days_from_election])\n",
      "            categ_params.append([state_code, pollster_id])\n",
      "            # Tag states with republican wins with 1.\n",
      "            if race[\"state\"] in republican_wins:\n",
      "                labels.append(1)\n",
      "            else:\n",
      "                labels.append(0)\n",
      "    return cont_params, categ_params, labels"
     ],
     "language": "python",
     "metadata": {},
     "outputs": [],
     "prompt_number": 42
    },
    {
     "cell_type": "code",
     "collapsed": false,
     "input": [
      "# These are the states Republicans actually won on the 2012 senate election.\n",
      "republican_wins_2012 = [\"NV\", \"AZ\", \"UT\", \"WY\", \"NE\", \"TX\", \"MS\", \"TN\"]\n",
      "X_cont, X_categ, y = prep_senate_data(2012, republican_wins_2012)\n",
      "print X_cont[:5], X_categ[:5]\n",
      "print y[:5]"
     ],
     "language": "python",
     "metadata": {},
     "outputs": [
      {
       "output_type": "stream",
       "stream": "stdout",
       "text": [
        "[[1.0, 3], [-7.0, 3], [-6.0, 4], [2.0, 5], [-4.0, 5]] [[25, 0], [25, 1], [25, 2], [25, 3], [25, 4]]\n",
        "[0, 0, 0, 0, 0]\n"
       ]
      }
     ],
     "prompt_number": 92
    },
    {
     "cell_type": "code",
     "collapsed": false,
     "input": [
      "# Fit continuous and categorical data.\n",
      "cont_clf = GaussianNB().fit(X_cont, y)\n",
      "categ_clf = MultinomialNB().fit(X_categ, y)"
     ],
     "language": "python",
     "metadata": {},
     "outputs": [],
     "prompt_number": 44
    },
    {
     "cell_type": "code",
     "collapsed": false,
     "input": [
      "# Transform dataset by getting probabilities of each variable.\n",
      "cont_proba = cont_clf.predict_proba(X_cont)\n",
      "categ_proba = categ_clf.predict_proba(X_categ)"
     ],
     "language": "python",
     "metadata": {},
     "outputs": [],
     "prompt_number": 45
    },
    {
     "cell_type": "code",
     "collapsed": false,
     "input": [
      "print cont_proba[:5], categ_proba[:5]"
     ],
     "language": "python",
     "metadata": {},
     "outputs": [
      {
       "output_type": "stream",
       "stream": "stdout",
       "text": [
        "[[ 0.86339671  0.13660329]\n",
        " [ 0.93797357  0.06202643]\n",
        " [ 0.93154992  0.06845008]\n",
        " [ 0.84924903  0.15075097]\n",
        " [ 0.91658825  0.08341175]] [[ 0.97875022  0.02124978]\n",
        " [ 0.97757166  0.02242834]\n",
        " [ 0.97632932  0.02367068]\n",
        " [ 0.97501992  0.02498008]\n",
        " [ 0.97364004  0.02635996]]\n"
       ]
      }
     ],
     "prompt_number": 46
    },
    {
     "cell_type": "code",
     "collapsed": false,
     "input": [
      "# Combine probabilities.\n",
      "X = np.hstack((cont_proba, categ_proba))\n",
      "X[:5]"
     ],
     "language": "python",
     "metadata": {},
     "outputs": [
      {
       "metadata": {},
       "output_type": "pyout",
       "prompt_number": 47,
       "text": [
        "array([[ 0.86339671,  0.13660329,  0.97875022,  0.02124978],\n",
        "       [ 0.93797357,  0.06202643,  0.97757166,  0.02242834],\n",
        "       [ 0.93154992,  0.06845008,  0.97632932,  0.02367068],\n",
        "       [ 0.84924903,  0.15075097,  0.97501992,  0.02498008],\n",
        "       [ 0.91658825,  0.08341175,  0.97364004,  0.02635996]])"
       ]
      }
     ],
     "prompt_number": 47
    },
    {
     "cell_type": "code",
     "collapsed": false,
     "input": [
      "# Finally, fit the model with all data.\n",
      "clf = GaussianNB().fit(X, y)\n",
      "clf.score(X, y)"
     ],
     "language": "python",
     "metadata": {},
     "outputs": [
      {
       "metadata": {},
       "output_type": "pyout",
       "prompt_number": 53,
       "text": [
        "0.90579710144927539"
       ]
      }
     ],
     "prompt_number": 53
    },
    {
     "cell_type": "code",
     "collapsed": false,
     "input": [
      "# Prepare 2014 data for prediction.\n",
      "x_cont, x_categ, _ = prep_senate_data(2014)\n",
      "print x_cont[:5], x_categ[:5]"
     ],
     "language": "python",
     "metadata": {},
     "outputs": [
      {
       "output_type": "stream",
       "stream": "stdout",
       "text": [
        "[[8.0, 3], [9.0, 5], [5.0, 6], [7.0, 8], [6.0, 12]] [[21, 2], [21, 36], [21, 159], [21, 160], [21, 161]]\n"
       ]
      }
     ],
     "prompt_number": 54
    },
    {
     "cell_type": "code",
     "collapsed": false,
     "input": [
      "cont_predict = cont_clf.predict_proba(x_cont)\n",
      "categ_predict = categ_clf.predict_proba(x_categ)"
     ],
     "language": "python",
     "metadata": {},
     "outputs": [],
     "prompt_number": 55
    },
    {
     "cell_type": "code",
     "collapsed": false,
     "input": [
      "x = np.hstack((cont_predict, categ_predict))\n",
      "x[:5]"
     ],
     "language": "python",
     "metadata": {},
     "outputs": [
      {
       "metadata": {},
       "output_type": "pyout",
       "prompt_number": 56,
       "text": [
        "array([[ 0.7349317 ,  0.2650683 ,  0.96927805,  0.03072195],\n",
        "       [ 0.71025631,  0.28974369,  0.82854263,  0.17145737],\n",
        "       [ 0.79877371,  0.20122629,  0.0054199 ,  0.9945801 ],\n",
        "       [ 0.75749192,  0.24250808,  0.00513041,  0.99486959],\n",
        "       [ 0.77860557,  0.22139443,  0.0048563 ,  0.9951437 ]])"
       ]
      }
     ],
     "prompt_number": 56
    },
    {
     "cell_type": "code",
     "collapsed": false,
     "input": [
      "predict_wins = clf.predict(x)"
     ],
     "language": "python",
     "metadata": {},
     "outputs": [],
     "prompt_number": 82
    },
    {
     "cell_type": "code",
     "collapsed": false,
     "input": [
      "predict_states = [fips_codes[fips_codes[\"State FIPS Code\"] == param[0]][\"State Abbreviation\"].values[0] for param in x_categ]"
     ],
     "language": "python",
     "metadata": {},
     "outputs": [],
     "prompt_number": 83
    },
    {
     "cell_type": "code",
     "collapsed": false,
     "input": [
      "predic_df = pd.DataFrame({\"State\": predict_states, \"Win\": predict_wins}).groupby(\"State\")\n",
      "predict_stats = predic_df.agg([np.mean, np.std])"
     ],
     "language": "python",
     "metadata": {},
     "outputs": [],
     "prompt_number": 90
    },
    {
     "cell_type": "code",
     "collapsed": false,
     "input": [
      "len(predict_stats[predict_stats[\"Win\"][\"mean\"] > .5])"
     ],
     "language": "python",
     "metadata": {},
     "outputs": [
      {
       "metadata": {},
       "output_type": "pyout",
       "prompt_number": 93,
       "text": [
        "12"
       ]
      }
     ],
     "prompt_number": 93
    },
    {
     "cell_type": "markdown",
     "metadata": {},
     "source": [
      "---\n",
      "\n",
      "### Data engineering:"
     ]
    },
    {
     "cell_type": "code",
     "collapsed": false,
     "input": [
      "# This function creates a Pandas DataFrame with all the polls for the leading candidates on an election.\n",
      "# The function takes the Senate election year as input.\n",
      "# It returns [\"State\", \"Republican\", \"NonRepublican\", \"PollDiff\", \"NumObs\", \"DaysFromElection, \"Pollster\"],\n",
      "# in a groupby friendly Pandas DataFrame.\n",
      "#\n",
      "# Input: int\n",
      "# Output: pandas.DataFrame\n",
      "#\n",
      "# Note: The function only returns polls that are fewer than 60 days away from election day.\n",
      "#\n",
      "def get_senate_polls(year):\n",
      "    df = pd.DataFrame(columns=[\"State\", \"Republican\", \"NonRepublican\", \"PollDiff\", \"NumObs\", \"DaysFromElection\", \"Pollster\"])\n",
      "    # Charts list url with placeholder for year (format function).\n",
      "    url = \"http://elections.huffingtonpost.com/pollster/api/charts.json?topic={}-senate&showall=false\"\n",
      "    for race in get(url.format(year)).json():\n",
      "        state = race[\"state\"]\n",
      "        election_date = dt.datetime.strptime(race[\"election_date\"], \"%Y-%m-%d\")\n",
      "        # Iterate over the candidates and grab republican and non-republican leader.\n",
      "        leading_non_republican = 0.0\n",
      "        for candidate in race[\"estimates\"]:\n",
      "            value = np.float64(candidate[\"value\"])\n",
      "            if candidate[\"party\"] == \"Rep\":\n",
      "                republican = candidate[\"choice\"]\n",
      "            elif value > leading_non_republican:\n",
      "                leading_non_republican = value\n",
      "                non_republican = candidate[\"choice\"]\n",
      "        # Grab individual polls.\n",
      "        for poll in get(race[\"url\"] + \".json\").json()[\"polls\"]:\n",
      "            days_from_election = (election_date - dt.datetime.strptime(poll[\"startdate\"], \"%Y-%m-%d\")).days\n",
      "            # Skip polls more than 60 days away from the election.\n",
      "            if days_from_election > 60:\n",
      "                continue\n",
      "            pollster = poll[\"pollster\"]\n",
      "            num_obs = np.float64(poll[\"numobs\"])\n",
      "            # Only grab votes for the candidates chosen above.\n",
      "            for candidate, votes in poll[\"choices\"].items():\n",
      "                if candidate == republican:\n",
      "                    rep_votes = np.float64(votes)\n",
      "                elif candidate == non_republican:\n",
      "                    non_rep_votes = np.float64(votes)\n",
      "            diff = rep_votes - non_rep_votes\n",
      "            # Add entries to df.\n",
      "            df.loc[len(df)] = [state, republican, non_republican, diff, num_obs, days_from_election, pollster]\n",
      "    return df"
     ],
     "language": "python",
     "metadata": {},
     "outputs": [],
     "prompt_number": 2
    },
    {
     "cell_type": "markdown",
     "metadata": {},
     "source": [
      "**Provide an explanation of methodology here**: I decided to use sklearn's Naive Bayes to solve this problem. After the initial analysis of the data I decided to use the difference in vote percentage between the candidates, the number of days before the election the poll was conducted, the state and the pollster who conducted the survey, as the model variables.\n",
      "\n",
      "The difference in votes is self-explanatory. As we have seen on the homework, the closer we get to the election day, the closer we get to the theoretical numbers; which suggests that this is a relevant variable. Since state population is more homogenic than the country population as a whole, it makes sense to aggregate them and assign some weight to which state a voter lives in. Lastly, it is a known fact that pollsters can introduce bias to their polls; but since calculating individual bias is a complicated matter, my model groups them together without actually calculating the bias; which necessarily assumes that the bias per pollster is somewhat constant.\n",
      "\n",
      "One big problem with my model was that the GaussianNB algorithm only works with continuous data, and two of my variables were categorical. To solve this problem I included a second predictor, namely MultinomialNB, which only deals with categorical data. I then joined the probability predictions of each model and used them to train another GaussianNB. This allowed the final model to include all variables. The same process was then performed with the 2014 Senate election data.\n",
      "\n",
      "It should be noted that this model yielded results very different from what I got on problem 3 and from what is on the Internet. This model has the Republicans winning 12 seats, bringing them to a total of **44** seats."
     ]
    },
    {
     "cell_type": "markdown",
     "metadata": {},
     "source": [
      "#### Problem 4(b)\n",
      "\n",
      "Predict the R-D difference in each state. The predictions that minimize the residual sum of squares between predicted and observed differences wins."
     ]
    },
    {
     "cell_type": "code",
     "collapsed": false,
     "input": [
      "### Your code here ###"
     ],
     "language": "python",
     "metadata": {},
     "outputs": [],
     "prompt_number": 35
    },
    {
     "cell_type": "markdown",
     "metadata": {},
     "source": [
      "**Provide an explanation of methodology here**:"
     ]
    },
    {
     "cell_type": "markdown",
     "metadata": {},
     "source": [
      "#### Problem 4(c)\n",
      "\n",
      "Report a confidence interval for the R-D difference in each state. If the election day result falls outside your confidence interval in more than two states you are eliminated. For those surviving this cutoff, we will add up the size of all confidence intervals and sum. The smallest total length of confidence interval wins. \n",
      "\n",
      "**Note**: you can use Bayesian credible intervals or whatever else you want. "
     ]
    },
    {
     "cell_type": "code",
     "collapsed": false,
     "input": [
      "### Your code here ###"
     ],
     "language": "python",
     "metadata": {},
     "outputs": [],
     "prompt_number": 36
    },
    {
     "cell_type": "markdown",
     "metadata": {},
     "source": [
      "**Provide an explanation of methodology here**:"
     ]
    },
    {
     "cell_type": "markdown",
     "metadata": {},
     "source": [
      "# Submission Instructions\n",
      "\n",
      "To submit your homework, create a folder named **lastname_firstinitial_hw#** and place your IPython notebooks, data files, and any other files in this folder. Your IPython Notebooks should be completely executed with the results visible in the notebook. We should not have to run any code.  Compress the folder (please use .zip compression) and submit to the CS109 dropbox in the appropriate folder. *If we cannot access your work because these directions are not followed correctly, we will not grade your work.*\n"
     ]
    }
   ],
   "metadata": {}
  }
 ]
}