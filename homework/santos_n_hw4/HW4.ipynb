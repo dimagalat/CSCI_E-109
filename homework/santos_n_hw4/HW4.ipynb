{
 "metadata": {
  "name": "",
  "signature": "sha256:4de8fda80a469a5d0f129fe298b69823ecd8f96eeaf445fd2baf7fb5c0505d4b"
 },
 "nbformat": 3,
 "nbformat_minor": 0,
 "worksheets": [
  {
   "cells": [
    {
     "cell_type": "markdown",
     "metadata": {},
     "source": [
      "# Homework 4: Can you predict the Midterm Elections?\n",
      "\n",
      "Due: Thursday, October 30, 2014 11:59 PM\n",
      "\n",
      "<a href=https://raw.githubusercontent.com/cs109/2014/master/homework/HW4.ipynb download=HW4.ipynb> Download this assignment</a>\n",
      "\n",
      "#### Submission Instructions\n",
      "To submit your homework, create a folder named lastname_firstinitial_hw# and place your IPython notebooks, data files, and any other files in this folder. Your IPython Notebooks should be completely executed with the results visible in the notebook. We should not have to run any code. Compress the folder (please use .zip compression) and submit to the CS109 dropbox in the appropriate folder. If we cannot access your work because these directions are not followed correctly, we will not grade your work. For the competition (problem 4), we will post a link on Piazza to a Google Form for you to submit your predictions. \n",
      "\n",
      "\n",
      "---\n"
     ]
    },
    {
     "cell_type": "markdown",
     "metadata": {},
     "source": [
      "## Introduction\n",
      "\n",
      "**Add Introduction**\n",
      "\n",
      "You will use the [HuffPost Pollster API](http://elections.huffingtonpost.com/pollster/api) to extract the polls for the current 2014 Senate Midterm Elections and provide a final prediction of the result of each state.\n",
      "\n",
      "#### Data\n",
      "\n",
      "We will use the polls from the [2014 Senate Midterm Elections](http://elections.huffingtonpost.com/pollster) from the [HuffPost Pollster API](http://elections.huffingtonpost.com/pollster/api). \n",
      "\n",
      "---"
     ]
    },
    {
     "cell_type": "code",
     "collapsed": false,
     "input": [
      "import pandas as pd\n",
      "import numpy as np\n",
      "from requests import get\n",
      "from collections import defaultdict"
     ],
     "language": "python",
     "metadata": {},
     "outputs": [],
     "prompt_number": 82
    },
    {
     "cell_type": "markdown",
     "metadata": {},
     "source": [
      "## Problem 1: Data Wrangling\n",
      "\n",
      "We will read in the polls from the [2014 Senate Midterm Elections](http://elections.huffingtonpost.com/pollster) from the [HuffPost Pollster API](http://elections.huffingtonpost.com/pollster/api) and create a dictionary of DataFrames as well a master table information for each race."
     ]
    },
    {
     "cell_type": "markdown",
     "metadata": {},
     "source": [
      "#### Problem 1(a)\n",
      "\n",
      "Read in [this JSON object](http://elections.huffingtonpost.com/pollster/api/charts/?topic=2014-senate) containing the polls for the 2014 Senate Elections using the HuffPost API. Call this JSON object `info`.  This JSON object is imported as a list in Python where each element contains the information for one race.  Use the function `type` to confirm the that `info` is a list. "
     ]
    },
    {
     "cell_type": "code",
     "collapsed": false,
     "input": [
      "info = get(\"http://elections.huffingtonpost.com/pollster/api/charts.json?topic=2014-senate\").json()\n",
      "type(info)"
     ],
     "language": "python",
     "metadata": {},
     "outputs": [
      {
       "metadata": {},
       "output_type": "pyout",
       "prompt_number": 56,
       "text": [
        "list"
       ]
      }
     ],
     "prompt_number": 56
    },
    {
     "cell_type": "markdown",
     "metadata": {},
     "source": [
      "#### Problem 1(b)\n",
      "\n",
      "For each element of the list in `info` extract the state. We should have one poll per state, but we do not. Why?\n",
      "\n",
      "**Hint**: Use the internet to find out information on the races in each state that has more than one entry. Eliminate entries of the list that represent races that are not happening."
     ]
    },
    {
     "cell_type": "code",
     "collapsed": false,
     "input": [
      "# Create dict with 0 as default value.\n",
      "states = defaultdict(int)\n",
      "# Parse info and increment states dict accordingly.\n",
      "for poll in info:\n",
      "    states[poll[\"state\"]] += 1\n",
      "# Make sure the number of states having elections is correct.\n",
      "assert len(states) == 33\n",
      "# Create list with states with multiple polls.    \n",
      "multi_polls = []\n",
      "for state, polls in states.items():\n",
      "    if polls > 1:\n",
      "        multi_polls.append(state)\n",
      "        \n",
      "[(poll[\"short_title\"], i) for i, poll in enumerate(info) if poll[\"state\"] in multi_polls]"
     ],
     "language": "python",
     "metadata": {},
     "outputs": [
      {
       "metadata": {},
       "output_type": "pyout",
       "prompt_number": 70,
       "text": [
        "[(u'2014 New Hampshire Senate', 4),\n",
        " (u'NH Senate: Bass vs. Shaheen', 6),\n",
        " (u'2014 South Carolina Senate: Graham vs. Hutto', 21),\n",
        " (u'2014 South Carolina Senate: Scott vs. Dickerson', 22),\n",
        " (u'2014 Oklahoma Senate: Inhofe vs. Silverstein', 23),\n",
        " (u'2014 Oklahoma Senate: Lankford vs. Johnson', 31)]"
       ]
      }
     ],
     "prompt_number": 70
    },
    {
     "cell_type": "code",
     "collapsed": false,
     "input": [
      "# The index of the \"bad\" poll is 6.\n",
      "print \"Before:\", info[6][\"short_title\"]\n",
      "del(info[6])\n",
      "print \"After:\", info[6][\"short_title\"]"
     ],
     "language": "python",
     "metadata": {},
     "outputs": [
      {
       "output_type": "stream",
       "stream": "stdout",
       "text": [
        "Before: NH Senate: Bass vs. Shaheen\n",
        "After: 2014 North Carolina Senate\n"
       ]
      }
     ],
     "prompt_number": 72
    },
    {
     "cell_type": "markdown",
     "metadata": {},
     "source": [
      "South Carolina and Oklahoma have special elections this year, and are therefore electing two senators each.\n",
      "New Hampshire on the other hand is only electing one senator but has two polls. This is because Charles Bass decided against challenging the democratic candidate. We removed this poll from the \"info\" list."
     ]
    },
    {
     "cell_type": "markdown",
     "metadata": {},
     "source": [
      "#### Problem 1(c)\n",
      "\n",
      "Create a dictionary of pandas DataFrames called `polls` keyed by the name of the election (a string). Each value in the dictionary should contain the polls for one of the races."
     ]
    },
    {
     "cell_type": "code",
     "collapsed": false,
     "input": [
      "charts = \"http://elections.huffingtonpost.com/pollster/api/charts/\"\n",
      "# Can't use read_json because we only want the \"polls\" item.\n",
      "polls = {}\n",
      "for election in info:\n",
      "    temp = pd.DataFrame(get(election[\"url\"] + \".json\").json()[\"polls\"])\n",
      "    for choice in temp[\"choices\"]:\n",
      "        for name, perc in choice.items():\n",
      "            temp[name] = perc\n",
      "    polls[election[\"short_title\"]] = temp.drop(\"choices\", axis=1)\n",
      "# Make sure we have the right number of races (33 regular + 2 special)\n",
      "assert len(polls) == 33 + 2\n",
      "polls.keys()"
     ],
     "language": "python",
     "metadata": {},
     "outputs": [
      {
       "metadata": {},
       "output_type": "pyout",
       "prompt_number": 192,
       "text": [
        "[u'2014 Delaware Senate: Wade vs. Coons',\n",
        " u'2014 Montana Senate: Daines vs. Curtis',\n",
        " u'2014 Oklahoma Senate: Inhofe vs. Silverstein',\n",
        " u'2014 New Jersey Senate',\n",
        " u'2014 Idaho Senate',\n",
        " u'2014 Kansas Senate',\n",
        " u'2014 Arkansas Senate',\n",
        " u'2014 Georgia Senate',\n",
        " u'2014 Tennessee Senate',\n",
        " u'2014 Alaska Senate: Sullivan vs. Begich',\n",
        " u'2014 Oregon Senate',\n",
        " u'2014 New Hampshire Senate',\n",
        " u'2014 Iowa Senate',\n",
        " u'2014 South Dakota Senate',\n",
        " u'2014 Louisiana Senate',\n",
        " u'2014 South Carolina Senate: Graham vs. Hutto',\n",
        " u'IL Senate: Oberweis vs. Durbin',\n",
        " u'2014 West Virginia Senate',\n",
        " u'2014 Mississippi Senate',\n",
        " u'2014 Massachusetts Senate: Herr vs. Markey',\n",
        " u'2014 South Carolina Senate: Scott vs. Dickerson',\n",
        " u'2014 Virginia Senate',\n",
        " u'2014 Texas Senate',\n",
        " u'2014 Rhode Island Senate: Zaccaria vs. Reed',\n",
        " u'2014 Colorado Senate',\n",
        " u'2014 Wyoming Senate',\n",
        " u'2014 New Mexico Senate',\n",
        " u'2014 Minnesota Senate',\n",
        " u'2014 Michigan Senate',\n",
        " u'2014 North Carolina Senate',\n",
        " u'2014 Kentucky Senate',\n",
        " u'2014 Maine Senate',\n",
        " u'2014 Oklahoma Senate: Lankford vs. Johnson',\n",
        " u'2014 Hawaii Senate',\n",
        " u'2014 Nebraska Senate: Sasse vs. Domina']"
       ]
      }
     ],
     "prompt_number": 192
    },
    {
     "cell_type": "code",
     "collapsed": false,
     "input": [
      "polls[\"2014 Delaware Senate: Wade vs. Coons\"].head()"
     ],
     "language": "python",
     "metadata": {},
     "outputs": [
      {
       "html": [
        "<div style=\"max-height:1000px;max-width:1500px;overflow:auto;\">\n",
        "<table border=\"1\" class=\"dataframe\">\n",
        "  <thead>\n",
        "    <tr style=\"text-align: right;\">\n",
        "      <th></th>\n",
        "      <th>affiliation</th>\n",
        "      <th>cell</th>\n",
        "      <th>enddate</th>\n",
        "      <th>id</th>\n",
        "      <th>mode</th>\n",
        "      <th>numobs</th>\n",
        "      <th>partisan</th>\n",
        "      <th>pollster</th>\n",
        "      <th>population</th>\n",
        "      <th>releasedatetime</th>\n",
        "      <th>slug</th>\n",
        "      <th>startdate</th>\n",
        "      <th>url</th>\n",
        "      <th>Wade</th>\n",
        "      <th>Other</th>\n",
        "      <th>Coons</th>\n",
        "      <th>Undecided</th>\n",
        "    </tr>\n",
        "  </thead>\n",
        "  <tbody>\n",
        "    <tr>\n",
        "      <th>0</th>\n",
        "      <td> None</td>\n",
        "      <td> no</td>\n",
        "      <td> 2014-10-01</td>\n",
        "      <td> 20696</td>\n",
        "      <td>        Internet</td>\n",
        "      <td> 471</td>\n",
        "      <td> Nonpartisan</td>\n",
        "      <td>         CBS/NYT/YouGov</td>\n",
        "      <td>     Likely Voters</td>\n",
        "      <td> 2014-10-05 15:35:39</td>\n",
        "      <td>         cbs-nyt-yougov-20696</td>\n",
        "      <td> 2014-09-20</td>\n",
        "      <td> https://today.yougov.com/news/2014/09/07/battl...</td>\n",
        "      <td> 35</td>\n",
        "      <td> 1</td>\n",
        "      <td> 48</td>\n",
        "      <td> 16</td>\n",
        "    </tr>\n",
        "    <tr>\n",
        "      <th>1</th>\n",
        "      <td> None</td>\n",
        "      <td> no</td>\n",
        "      <td> 2014-09-22</td>\n",
        "      <td> 20598</td>\n",
        "      <td>      Live Phone</td>\n",
        "      <td> 769</td>\n",
        "      <td> Nonpartisan</td>\n",
        "      <td> University of Delaware</td>\n",
        "      <td> Registered Voters</td>\n",
        "      <td> 2014-09-26 19:49:46</td>\n",
        "      <td> university-of-delaware-20598</td>\n",
        "      <td> 2014-09-10</td>\n",
        "      <td> http://www.udel.edu/cpc/research/fall2014/CPCN...</td>\n",
        "      <td> 35</td>\n",
        "      <td> 1</td>\n",
        "      <td> 48</td>\n",
        "      <td> 16</td>\n",
        "    </tr>\n",
        "    <tr>\n",
        "      <th>2</th>\n",
        "      <td> None</td>\n",
        "      <td> no</td>\n",
        "      <td> 2014-09-12</td>\n",
        "      <td> 20427</td>\n",
        "      <td> Automated Phone</td>\n",
        "      <td> 750</td>\n",
        "      <td> Nonpartisan</td>\n",
        "      <td>              Rasmussen</td>\n",
        "      <td>     Likely Voters</td>\n",
        "      <td> 2014-09-15 15:30:24</td>\n",
        "      <td>              rasmussen-20427</td>\n",
        "      <td> 2014-09-10</td>\n",
        "      <td> http://www.rasmussenreports.com/public_content...</td>\n",
        "      <td> 35</td>\n",
        "      <td> 1</td>\n",
        "      <td> 48</td>\n",
        "      <td> 16</td>\n",
        "    </tr>\n",
        "    <tr>\n",
        "      <th>3</th>\n",
        "      <td> None</td>\n",
        "      <td> no</td>\n",
        "      <td> 2014-09-02</td>\n",
        "      <td> 20293</td>\n",
        "      <td>        Internet</td>\n",
        "      <td> 697</td>\n",
        "      <td> Nonpartisan</td>\n",
        "      <td>         CBS/NYT/YouGov</td>\n",
        "      <td>     Likely Voters</td>\n",
        "      <td> 2014-09-07 15:51:31</td>\n",
        "      <td>         cbs-nyt-yougov-20293</td>\n",
        "      <td> 2014-08-18</td>\n",
        "      <td> https://today.yougov.com/news/2014/09/07/battl...</td>\n",
        "      <td> 35</td>\n",
        "      <td> 1</td>\n",
        "      <td> 48</td>\n",
        "      <td> 16</td>\n",
        "    </tr>\n",
        "  </tbody>\n",
        "</table>\n",
        "</div>"
       ],
       "metadata": {},
       "output_type": "pyout",
       "prompt_number": 193,
       "text": [
        "  affiliation cell     enddate     id             mode numobs     partisan  \\\n",
        "0        None   no  2014-10-01  20696         Internet    471  Nonpartisan   \n",
        "1        None   no  2014-09-22  20598       Live Phone    769  Nonpartisan   \n",
        "2        None   no  2014-09-12  20427  Automated Phone    750  Nonpartisan   \n",
        "3        None   no  2014-09-02  20293         Internet    697  Nonpartisan   \n",
        "\n",
        "                 pollster         population      releasedatetime  \\\n",
        "0          CBS/NYT/YouGov      Likely Voters  2014-10-05 15:35:39   \n",
        "1  University of Delaware  Registered Voters  2014-09-26 19:49:46   \n",
        "2               Rasmussen      Likely Voters  2014-09-15 15:30:24   \n",
        "3          CBS/NYT/YouGov      Likely Voters  2014-09-07 15:51:31   \n",
        "\n",
        "                           slug   startdate  \\\n",
        "0          cbs-nyt-yougov-20696  2014-09-20   \n",
        "1  university-of-delaware-20598  2014-09-10   \n",
        "2               rasmussen-20427  2014-09-10   \n",
        "3          cbs-nyt-yougov-20293  2014-08-18   \n",
        "\n",
        "                                                 url Wade Other Coons  \\\n",
        "0  https://today.yougov.com/news/2014/09/07/battl...   35     1    48   \n",
        "1  http://www.udel.edu/cpc/research/fall2014/CPCN...   35     1    48   \n",
        "2  http://www.rasmussenreports.com/public_content...   35     1    48   \n",
        "3  https://today.yougov.com/news/2014/09/07/battl...   35     1    48   \n",
        "\n",
        "  Undecided  \n",
        "0        16  \n",
        "1        16  \n",
        "2        16  \n",
        "3        16  "
       ]
      }
     ],
     "prompt_number": 193
    },
    {
     "cell_type": "markdown",
     "metadata": {},
     "source": [
      "#### Problem 1(d)\n",
      "\n",
      "Now creaate a master table information containing information about each race. Create a pandas DataFrame called `candidates` with rows containing information about each race. The `candidates` DataFrame should have the following columns: \n",
      "\n",
      "1. `State` = entries should be unique\n",
      "2. `R` = name of republican candidate\n",
      "3. `D` = name of non-republican candidate (Democrate or Independent) \n",
      "4. `incumbent` = R, D or NA\n",
      "\n",
      "**Hint**: You will need a considerable amount of data wrangling for this."
     ]
    },
    {
     "cell_type": "code",
     "collapsed": false,
     "input": [
      "races = get(\"http://elections.huffingtonpost.com/pollster/api/charts?topic=2014-senate\").json()\n",
      "# Remove bad NH race.\n",
      "del(races[6])\n",
      "candidates = []\n",
      "for race in races:\n",
      "    temp = {}\n",
      "    temp[\"State\"] = race[\"state\"]\n",
      "    # Ignore races with emply estimates.\n",
      "    if not race[\"estimates\"]:\n",
      "        continue\n",
      "    for candidate in race[\"estimates\"]:\n",
      "        name = candidate[\"choice\"]\n",
      "        party = candidate[\"party\"]\n",
      "        # Convert to lower case to avoid case problems on if statements.\n",
      "        if party:\n",
      "            party = party.lower()\n",
      "        if party == \"rep\":\n",
      "            temp[\"R\"] = name\n",
      "            if candidate[\"incumbent\"]:\n",
      "                temp[\"incumbent\"] = \"R\"\n",
      "        # Using elif here to ignore \"other\" candidates.\n",
      "        elif party == \"dem\" or party == \"ind\":\n",
      "            temp[\"D\"] = name\n",
      "            if candidate[\"incumbent\"]:\n",
      "                temp[\"incumbent\"] = \"D\"\n",
      "        # Handle cases where none of the candidates are up for re-election.\n",
      "        if not \"incumbent\" in temp:\n",
      "            temp[\"incumbent\"] = \"NA\"\n",
      "    candidates.append(temp)\n",
      "candidates = pd.DataFrame(candidates, columns=[\"State\", \"R\", \"D\", \"incumbent\"])\n",
      "candidates"
     ],
     "language": "python",
     "metadata": {},
     "outputs": [
      {
       "html": [
        "<div style=\"max-height:1000px;max-width:1500px;overflow:auto;\">\n",
        "<table border=\"1\" class=\"dataframe\">\n",
        "  <thead>\n",
        "    <tr style=\"text-align: right;\">\n",
        "      <th></th>\n",
        "      <th>State</th>\n",
        "      <th>R</th>\n",
        "      <th>D</th>\n",
        "      <th>incumbent</th>\n",
        "    </tr>\n",
        "  </thead>\n",
        "  <tbody>\n",
        "    <tr>\n",
        "      <th>0 </th>\n",
        "      <td> KY</td>\n",
        "      <td> McConnell</td>\n",
        "      <td>    Grimes</td>\n",
        "      <td>  R</td>\n",
        "    </tr>\n",
        "    <tr>\n",
        "      <th>1 </th>\n",
        "      <td> AR</td>\n",
        "      <td>    Cotton</td>\n",
        "      <td>     Pryor</td>\n",
        "      <td>  D</td>\n",
        "    </tr>\n",
        "    <tr>\n",
        "      <th>2 </th>\n",
        "      <td> MI</td>\n",
        "      <td>      Land</td>\n",
        "      <td>    Peters</td>\n",
        "      <td> NA</td>\n",
        "    </tr>\n",
        "    <tr>\n",
        "      <th>3 </th>\n",
        "      <td> LA</td>\n",
        "      <td>   Cassidy</td>\n",
        "      <td>  Landrieu</td>\n",
        "      <td>  D</td>\n",
        "    </tr>\n",
        "    <tr>\n",
        "      <th>4 </th>\n",
        "      <td> NH</td>\n",
        "      <td>     Brown</td>\n",
        "      <td>   Shaheen</td>\n",
        "      <td>  D</td>\n",
        "    </tr>\n",
        "    <tr>\n",
        "      <th>5 </th>\n",
        "      <td> WV</td>\n",
        "      <td>    Capito</td>\n",
        "      <td>   Tennant</td>\n",
        "      <td> NA</td>\n",
        "    </tr>\n",
        "    <tr>\n",
        "      <th>6 </th>\n",
        "      <td> NC</td>\n",
        "      <td>    Tillis</td>\n",
        "      <td>     Hagan</td>\n",
        "      <td>  D</td>\n",
        "    </tr>\n",
        "    <tr>\n",
        "      <th>7 </th>\n",
        "      <td> VA</td>\n",
        "      <td> Gillespie</td>\n",
        "      <td>    Warner</td>\n",
        "      <td>  D</td>\n",
        "    </tr>\n",
        "    <tr>\n",
        "      <th>8 </th>\n",
        "      <td> CO</td>\n",
        "      <td>   Gardner</td>\n",
        "      <td>     Udall</td>\n",
        "      <td>  D</td>\n",
        "    </tr>\n",
        "    <tr>\n",
        "      <th>9 </th>\n",
        "      <td> IL</td>\n",
        "      <td>  Oberweis</td>\n",
        "      <td>    Durbin</td>\n",
        "      <td>  D</td>\n",
        "    </tr>\n",
        "    <tr>\n",
        "      <th>10</th>\n",
        "      <td> AK</td>\n",
        "      <td>  Sullivan</td>\n",
        "      <td>    Begich</td>\n",
        "      <td>  D</td>\n",
        "    </tr>\n",
        "    <tr>\n",
        "      <th>11</th>\n",
        "      <td> IA</td>\n",
        "      <td>     Ernst</td>\n",
        "      <td>    Braley</td>\n",
        "      <td> NA</td>\n",
        "    </tr>\n",
        "    <tr>\n",
        "      <th>12</th>\n",
        "      <td> MS</td>\n",
        "      <td>   Cochran</td>\n",
        "      <td>  Childers</td>\n",
        "      <td>  R</td>\n",
        "    </tr>\n",
        "    <tr>\n",
        "      <th>13</th>\n",
        "      <td> OR</td>\n",
        "      <td>     Wehby</td>\n",
        "      <td>   Merkley</td>\n",
        "      <td>  D</td>\n",
        "    </tr>\n",
        "    <tr>\n",
        "      <th>14</th>\n",
        "      <td> GA</td>\n",
        "      <td>    Perdue</td>\n",
        "      <td>      Nunn</td>\n",
        "      <td> NA</td>\n",
        "    </tr>\n",
        "    <tr>\n",
        "      <th>15</th>\n",
        "      <td> NE</td>\n",
        "      <td>     Sasse</td>\n",
        "      <td>    Domina</td>\n",
        "      <td> NA</td>\n",
        "    </tr>\n",
        "    <tr>\n",
        "      <th>16</th>\n",
        "      <td> SD</td>\n",
        "      <td>    Rounds</td>\n",
        "      <td>  Pressler</td>\n",
        "      <td> NA</td>\n",
        "    </tr>\n",
        "    <tr>\n",
        "      <th>17</th>\n",
        "      <td> ME</td>\n",
        "      <td>   Collins</td>\n",
        "      <td>   Bellows</td>\n",
        "      <td>  R</td>\n",
        "    </tr>\n",
        "    <tr>\n",
        "      <th>18</th>\n",
        "      <td> MN</td>\n",
        "      <td>  McFadden</td>\n",
        "      <td>   Franken</td>\n",
        "      <td>  D</td>\n",
        "    </tr>\n",
        "    <tr>\n",
        "      <th>19</th>\n",
        "      <td> TX</td>\n",
        "      <td>    Cornyn</td>\n",
        "      <td>   Alameel</td>\n",
        "      <td>  R</td>\n",
        "    </tr>\n",
        "    <tr>\n",
        "      <th>20</th>\n",
        "      <td> SC</td>\n",
        "      <td>    Graham</td>\n",
        "      <td>     Hutto</td>\n",
        "      <td>  R</td>\n",
        "    </tr>\n",
        "    <tr>\n",
        "      <th>21</th>\n",
        "      <td> SC</td>\n",
        "      <td>     Scott</td>\n",
        "      <td> Dickerson</td>\n",
        "      <td>  R</td>\n",
        "    </tr>\n",
        "    <tr>\n",
        "      <th>22</th>\n",
        "      <td> NM</td>\n",
        "      <td>       Weh</td>\n",
        "      <td>     Udall</td>\n",
        "      <td>  D</td>\n",
        "    </tr>\n",
        "    <tr>\n",
        "      <th>23</th>\n",
        "      <td> NJ</td>\n",
        "      <td>      Bell</td>\n",
        "      <td>    Booker</td>\n",
        "      <td>  D</td>\n",
        "    </tr>\n",
        "    <tr>\n",
        "      <th>24</th>\n",
        "      <td> ID</td>\n",
        "      <td>     Risch</td>\n",
        "      <td>  Mitchell</td>\n",
        "      <td>  R</td>\n",
        "    </tr>\n",
        "    <tr>\n",
        "      <th>25</th>\n",
        "      <td> TN</td>\n",
        "      <td> Alexander</td>\n",
        "      <td>      Ball</td>\n",
        "      <td>  R</td>\n",
        "    </tr>\n",
        "    <tr>\n",
        "      <th>26</th>\n",
        "      <td> KS</td>\n",
        "      <td>   Roberts</td>\n",
        "      <td>     Orman</td>\n",
        "      <td>  R</td>\n",
        "    </tr>\n",
        "    <tr>\n",
        "      <th>27</th>\n",
        "      <td> HI</td>\n",
        "      <td>   Cavasso</td>\n",
        "      <td>    Schatz</td>\n",
        "      <td>  D</td>\n",
        "    </tr>\n",
        "    <tr>\n",
        "      <th>28</th>\n",
        "      <td> MT</td>\n",
        "      <td>    Daines</td>\n",
        "      <td>    Curtis</td>\n",
        "      <td> NA</td>\n",
        "    </tr>\n",
        "    <tr>\n",
        "      <th>29</th>\n",
        "      <td> MA</td>\n",
        "      <td>      Herr</td>\n",
        "      <td>    Markey</td>\n",
        "      <td>  D</td>\n",
        "    </tr>\n",
        "  </tbody>\n",
        "</table>\n",
        "</div>"
       ],
       "metadata": {},
       "output_type": "pyout",
       "prompt_number": 183,
       "text": [
        "   State          R          D incumbent\n",
        "0     KY  McConnell     Grimes         R\n",
        "1     AR     Cotton      Pryor         D\n",
        "2     MI       Land     Peters        NA\n",
        "3     LA    Cassidy   Landrieu         D\n",
        "4     NH      Brown    Shaheen         D\n",
        "5     WV     Capito    Tennant        NA\n",
        "6     NC     Tillis      Hagan         D\n",
        "7     VA  Gillespie     Warner         D\n",
        "8     CO    Gardner      Udall         D\n",
        "9     IL   Oberweis     Durbin         D\n",
        "10    AK   Sullivan     Begich         D\n",
        "11    IA      Ernst     Braley        NA\n",
        "12    MS    Cochran   Childers         R\n",
        "13    OR      Wehby    Merkley         D\n",
        "14    GA     Perdue       Nunn        NA\n",
        "15    NE      Sasse     Domina        NA\n",
        "16    SD     Rounds   Pressler        NA\n",
        "17    ME    Collins    Bellows         R\n",
        "18    MN   McFadden    Franken         D\n",
        "19    TX     Cornyn    Alameel         R\n",
        "20    SC     Graham      Hutto         R\n",
        "21    SC      Scott  Dickerson         R\n",
        "22    NM        Weh      Udall         D\n",
        "23    NJ       Bell     Booker         D\n",
        "24    ID      Risch   Mitchell         R\n",
        "25    TN  Alexander       Ball         R\n",
        "26    KS    Roberts      Orman         R\n",
        "27    HI    Cavasso     Schatz         D\n",
        "28    MT     Daines     Curtis        NA\n",
        "29    MA       Herr     Markey         D"
       ]
      }
     ],
     "prompt_number": 183
    },
    {
     "cell_type": "markdown",
     "metadata": {},
     "source": [
      "It should be noted that a couple of the races did not have a populated \"estimates\" array, wich was needed to get party affiliation and incumbent information. We decided to drop these rows."
     ]
    },
    {
     "cell_type": "markdown",
     "metadata": {},
     "source": [
      "## Problem 2: Confidence Intervals\n",
      "\n",
      "Compute a 99% confidence interval for each state. "
     ]
    },
    {
     "cell_type": "markdown",
     "metadata": {},
     "source": [
      "#### Problem 2(a)\n",
      "\n",
      "Assume you have $M$ polls with sample sizes $n_M, \\dots, n_M$. If the polls are independent, what is the average of the variances of each poll if the true proportion is $p$?"
     ]
    },
    {
     "cell_type": "markdown",
     "metadata": {},
     "source": [
      "** Your answer here: **"
     ]
    },
    {
     "cell_type": "markdown",
     "metadata": {},
     "source": [
      "#### Problem 2(b)\n",
      "\n",
      "Compute the square root of these values in Problem 2(b) for the republican candidates in each race. Then, compute the standard deviations of the observed poll results for each race. "
     ]
    },
    {
     "cell_type": "code",
     "collapsed": false,
     "input": [
      "### Your code here ###"
     ],
     "language": "python",
     "metadata": {},
     "outputs": []
    },
    {
     "cell_type": "markdown",
     "metadata": {},
     "source": [
      "#### Problem 2(c) \n",
      "\n",
      "Plot observed versus theoretical (average of the theoretical SDs) with the area of the point proportional to number of polls. How do these compare?"
     ]
    },
    {
     "cell_type": "code",
     "collapsed": false,
     "input": [
      "### Your code here ###"
     ],
     "language": "python",
     "metadata": {},
     "outputs": []
    },
    {
     "cell_type": "markdown",
     "metadata": {},
     "source": [
      "** Your answer here: **"
     ]
    },
    {
     "cell_type": "markdown",
     "metadata": {},
     "source": [
      "#### Problem 2(d)\n",
      "\n",
      "Repeat Problem 2(c) but include only the most recent polls from the last two months. Do they match better or worse or the same? Can we just trust the theoretical values?"
     ]
    },
    {
     "cell_type": "code",
     "collapsed": false,
     "input": [
      "### Your code here ###"
     ],
     "language": "python",
     "metadata": {},
     "outputs": []
    },
    {
     "cell_type": "markdown",
     "metadata": {},
     "source": [
      "** Your answer here: **"
     ]
    },
    {
     "cell_type": "markdown",
     "metadata": {},
     "source": [
      "#### Problem 2(e)\n",
      "\n",
      "Create a scatter plot with each point representing one state. Is there one or more races that are outlier in that it they have much larger variabilityes than expected ? Explore the original poll data and explain why the discrepancy?"
     ]
    },
    {
     "cell_type": "code",
     "collapsed": false,
     "input": [
      "### Your code here ###"
     ],
     "language": "python",
     "metadata": {},
     "outputs": []
    },
    {
     "cell_type": "markdown",
     "metadata": {},
     "source": [
      "** Your answer here: **"
     ]
    },
    {
     "cell_type": "markdown",
     "metadata": {},
     "source": [
      "#### Problem 2(f)\n",
      "\n",
      " Construct confidence intervals for the difference in each race. Use either theoretical or data driven estimates of the standard error depending on your answer to this question. Use the results in Problem 2(e), to justify your choice.\n"
     ]
    },
    {
     "cell_type": "code",
     "collapsed": false,
     "input": [
      "### Your code here ###"
     ],
     "language": "python",
     "metadata": {},
     "outputs": []
    },
    {
     "cell_type": "markdown",
     "metadata": {},
     "source": [
      "# Problem 3: Prediction and Posterior Probabilities\n",
      "\n",
      "Perform a Bayesian analysis to predict the probability of Republicans winning in each state then provide a posterior distribution of the number of republicans in the senate."
     ]
    },
    {
     "cell_type": "markdown",
     "metadata": {},
     "source": [
      "#### Problem 3(a)\n",
      "\n",
      "First, we define a Bayesian model for each race. The prior for the difference $d$ between republicans and democtrats will be $N(\\mu,\\tau^2)$. Say before seeing poll data you have idea who is going to win, what should $\\mu$ be? How about $\\tau$, should it be large or small? "
     ]
    },
    {
     "cell_type": "markdown",
     "metadata": {},
     "source": [
      "** Your answer here: **"
     ]
    },
    {
     "cell_type": "markdown",
     "metadata": {},
     "source": [
      "#### Problem 3(b)\n",
      "\n",
      "What is the distribution of $d$ conditioned on $\\mu$. What is the posterior distribution of $\\mu | d$? \n",
      "\n",
      "**Hint**: Use normal approximation. "
     ]
    },
    {
     "cell_type": "markdown",
     "metadata": {},
     "source": [
      "**Your answer here:**"
     ]
    },
    {
     "cell_type": "markdown",
     "metadata": {},
     "source": [
      "#### Problem 3(c)\n",
      "\n",
      "The prior represents what we think before hand. We do not know who is expected to win, so we assume $\\mu=0$. For this problem estimate $\\tau$ using the observed differences across states (Hint: $\\tau$ represents the standard deviation of a typical difference). Compute the posterior mean for each state and plot it against original average. Is there much change? Why or why not? "
     ]
    },
    {
     "cell_type": "code",
     "collapsed": false,
     "input": [
      "### Your code here ###"
     ],
     "language": "python",
     "metadata": {},
     "outputs": []
    },
    {
     "cell_type": "markdown",
     "metadata": {},
     "source": [
      "**Your answer here:**"
     ]
    },
    {
     "cell_type": "markdown",
     "metadata": {},
     "source": [
      "#### Problem 3(d)\n",
      "\n",
      "For each state, report a probabilty of Republicans winning. How does your answer here compare to the other aggregators?"
     ]
    },
    {
     "cell_type": "code",
     "collapsed": false,
     "input": [
      "### Your code here ###"
     ],
     "language": "python",
     "metadata": {},
     "outputs": []
    },
    {
     "cell_type": "markdown",
     "metadata": {},
     "source": [
      "**Your answer here:**"
     ]
    },
    {
     "cell_type": "markdown",
     "metadata": {},
     "source": [
      "#### Problem 3(e)\n",
      "\n",
      "Use the posterior distributions in a Monte Carlo simulation to generate election results. In each simulation compute the total number of seats the Republican control. Show a histogram of these results."
     ]
    },
    {
     "cell_type": "code",
     "collapsed": false,
     "input": [
      "### Your code here ###"
     ],
     "language": "python",
     "metadata": {},
     "outputs": []
    },
    {
     "cell_type": "markdown",
     "metadata": {},
     "source": [
      "## Problem 4\n",
      "\n",
      "Predict the results for the 2014 Midterm Elections. We will have a three competitions with the terms for scoring entries described above. For both questions below, **explain** or provide commentary on how you arrived at your predictions including code. \n",
      "\n",
      "**Hint**: Use election results from 2010, 2012 to build and test models."
     ]
    },
    {
     "cell_type": "markdown",
     "metadata": {},
     "source": [
      "#### Problem 4(a)\n",
      "\n",
      "Predict the number of Republican senators. You may provide an interval. Smallest interval that includes the election day result wins. \n",
      "\n",
      "**Note**: we want the total so add the numbers of those that are not up for election."
     ]
    },
    {
     "cell_type": "code",
     "collapsed": false,
     "input": [
      "### Your code here ###"
     ],
     "language": "python",
     "metadata": {},
     "outputs": []
    },
    {
     "cell_type": "markdown",
     "metadata": {},
     "source": [
      "**Provide an explanation of methodology here**:"
     ]
    },
    {
     "cell_type": "markdown",
     "metadata": {},
     "source": [
      "#### Problem 4(b)\n",
      "\n",
      "Predict the R-D difference in each state. The predictions that minimize the residual sum of squares between predicted and observed differences wins."
     ]
    },
    {
     "cell_type": "code",
     "collapsed": false,
     "input": [
      "### Your code here ###"
     ],
     "language": "python",
     "metadata": {},
     "outputs": []
    },
    {
     "cell_type": "markdown",
     "metadata": {},
     "source": [
      "**Provide an explanation of methodology here**:"
     ]
    },
    {
     "cell_type": "markdown",
     "metadata": {},
     "source": [
      "#### Problem 4(c)\n",
      "\n",
      "Report a confidence interval for the R-D difference in each state. If the election day result falls outside your confidence interval in more than two states you are eliminated. For those surviving this cutoff, we will add up the size of all confidence intervals and sum. The smallest total length of confidence interval wins. \n",
      "\n",
      "**Note**: you can use Bayesian credible intervals or whatever else you want. "
     ]
    },
    {
     "cell_type": "code",
     "collapsed": false,
     "input": [
      "### Your code here ###"
     ],
     "language": "python",
     "metadata": {},
     "outputs": []
    },
    {
     "cell_type": "markdown",
     "metadata": {},
     "source": [
      "**Provide an explanation of methodology here**:"
     ]
    },
    {
     "cell_type": "markdown",
     "metadata": {},
     "source": [
      "# Submission Instructions\n",
      "\n",
      "To submit your homework, create a folder named **lastname_firstinitial_hw#** and place your IPython notebooks, data files, and any other files in this folder. Your IPython Notebooks should be completely executed with the results visible in the notebook. We should not have to run any code.  Compress the folder (please use .zip compression) and submit to the CS109 dropbox in the appropriate folder. *If we cannot access your work because these directions are not followed correctly, we will not grade your work.*\n"
     ]
    }
   ],
   "metadata": {}
  }
 ]
}