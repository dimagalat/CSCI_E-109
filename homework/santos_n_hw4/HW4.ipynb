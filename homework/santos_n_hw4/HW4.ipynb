{
 "metadata": {
  "name": "",
  "signature": "sha256:dc6666fd4386ad175168d1e3d80ddfa1ba3a2b743d865d21919d6b2508fe0a46"
 },
 "nbformat": 3,
 "nbformat_minor": 0,
 "worksheets": [
  {
   "cells": [
    {
     "cell_type": "markdown",
     "metadata": {},
     "source": [
      "# Homework 4: Can you predict the Midterm Elections?\n",
      "\n",
      "Due: Thursday, October 30, 2014 11:59 PM\n",
      "\n",
      "<a href=https://raw.githubusercontent.com/cs109/2014/master/homework/HW4.ipynb download=HW4.ipynb> Download this assignment</a>\n",
      "\n",
      "#### Submission Instructions\n",
      "To submit your homework, create a folder named lastname_firstinitial_hw# and place your IPython notebooks, data files, and any other files in this folder. Your IPython Notebooks should be completely executed with the results visible in the notebook. We should not have to run any code. Compress the folder (please use .zip compression) and submit to the CS109 dropbox in the appropriate folder. If we cannot access your work because these directions are not followed correctly, we will not grade your work. For the competition (problem 4), we will post a link on Piazza to a Google Form for you to submit your predictions. \n",
      "\n",
      "\n",
      "---\n"
     ]
    },
    {
     "cell_type": "markdown",
     "metadata": {},
     "source": [
      "## Introduction\n",
      "\n",
      "**Add Introduction**\n",
      "\n",
      "You will use the [HuffPost Pollster API](http://elections.huffingtonpost.com/pollster/api) to extract the polls for the current 2014 Senate Midterm Elections and provide a final prediction of the result of each state.\n",
      "\n",
      "#### Data\n",
      "\n",
      "We will use the polls from the [2014 Senate Midterm Elections](http://elections.huffingtonpost.com/pollster) from the [HuffPost Pollster API](http://elections.huffingtonpost.com/pollster/api). \n",
      "\n",
      "---"
     ]
    },
    {
     "cell_type": "code",
     "collapsed": false,
     "input": [
      "import pandas as pd\n",
      "import numpy as np\n",
      "\n",
      "import matplotlib.pyplot as plt\n",
      "\n",
      "from requests import get\n",
      "from collections import defaultdict\n",
      "\n",
      "import datetime as dt"
     ],
     "language": "python",
     "metadata": {},
     "outputs": [],
     "prompt_number": 1
    },
    {
     "cell_type": "code",
     "collapsed": false,
     "input": [
      "%matplotlib inline"
     ],
     "language": "python",
     "metadata": {},
     "outputs": [],
     "prompt_number": 2
    },
    {
     "cell_type": "markdown",
     "metadata": {},
     "source": [
      "## Problem 1: Data Wrangling\n",
      "\n",
      "We will read in the polls from the [2014 Senate Midterm Elections](http://elections.huffingtonpost.com/pollster) from the [HuffPost Pollster API](http://elections.huffingtonpost.com/pollster/api) and create a dictionary of DataFrames as well a master table information for each race."
     ]
    },
    {
     "cell_type": "markdown",
     "metadata": {},
     "source": [
      "#### Problem 1(a)\n",
      "\n",
      "Read in [this JSON object](http://elections.huffingtonpost.com/pollster/api/charts/?topic=2014-senate) containing the polls for the 2014 Senate Elections using the HuffPost API. Call this JSON object `info`.  This JSON object is imported as a list in Python where each element contains the information for one race.  Use the function `type` to confirm the that `info` is a list. "
     ]
    },
    {
     "cell_type": "code",
     "collapsed": false,
     "input": [
      "info = get(\"http://elections.huffingtonpost.com/pollster/api/charts.json?topic=2014-senate\").json()\n",
      "type(info)"
     ],
     "language": "python",
     "metadata": {},
     "outputs": [
      {
       "metadata": {},
       "output_type": "pyout",
       "prompt_number": 3,
       "text": [
        "list"
       ]
      }
     ],
     "prompt_number": 3
    },
    {
     "cell_type": "markdown",
     "metadata": {},
     "source": [
      "#### Problem 1(b)\n",
      "\n",
      "For each element of the list in `info` extract the state. We should have one poll per state, but we do not. Why?\n",
      "\n",
      "**Hint**: Use the internet to find out information on the races in each state that has more than one entry. Eliminate entries of the list that represent races that are not happening."
     ]
    },
    {
     "cell_type": "code",
     "collapsed": false,
     "input": [
      "# Create dict with 0 as default value.\n",
      "states = defaultdict(int)\n",
      "# Parse info and increment states dict accordingly.\n",
      "for poll in info:\n",
      "    states[poll[\"state\"]] += 1\n",
      "# Make sure the number of states having elections is correct.\n",
      "assert len(states) == 33, \"Expected {}, got {}.\".format(33, len(states))\n",
      "# Create list with states with multiple polls.    \n",
      "multi_polls = []\n",
      "for state, polls in states.items():\n",
      "    if polls > 1:\n",
      "        multi_polls.append(state)\n",
      "        \n",
      "[(poll[\"short_title\"], i) for i, poll in enumerate(info) if poll[\"state\"] in multi_polls]"
     ],
     "language": "python",
     "metadata": {},
     "outputs": [
      {
       "metadata": {},
       "output_type": "pyout",
       "prompt_number": 4,
       "text": [
        "[(u'2014 New Hampshire Senate', 4),\n",
        " (u'NH Senate: Bass vs. Shaheen', 6),\n",
        " (u'2014 South Carolina Senate: Graham vs. Hutto', 21),\n",
        " (u'2014 South Carolina Senate: Scott vs. Dickerson', 22),\n",
        " (u'2014 Oklahoma Senate: Inhofe vs. Silverstein', 23),\n",
        " (u'2014 Oklahoma Senate: Lankford vs. Johnson', 31)]"
       ]
      }
     ],
     "prompt_number": 4
    },
    {
     "cell_type": "code",
     "collapsed": false,
     "input": [
      "# The index of the \"bad\" poll is 6.\n",
      "del(info[6])\n",
      "# Make sure info has the expected size.\n",
      "assert len(info) == 35, \"Expected {}, got {}.\".format(35, len(info))"
     ],
     "language": "python",
     "metadata": {},
     "outputs": [],
     "prompt_number": 5
    },
    {
     "cell_type": "markdown",
     "metadata": {},
     "source": [
      "South Carolina and Oklahoma have special elections this year, and are therefore electing two senators each.\n",
      "New Hampshire on the other hand is only electing one senator but has two polls. This is because Charles Bass decided against challenging the democratic candidate. We removed this poll from the \"info\" list."
     ]
    },
    {
     "cell_type": "markdown",
     "metadata": {},
     "source": [
      "#### Problem 1(c)\n",
      "\n",
      "Create a dictionary of pandas DataFrames called `polls` keyed by the name of the election (a string). Each value in the dictionary should contain the polls for one of the races."
     ]
    },
    {
     "cell_type": "code",
     "collapsed": false,
     "input": [
      "# Can't use read_json because we only want the \"polls\" item.\n",
      "polls = {}\n",
      "for election in info:\n",
      "    temp = pd.DataFrame(get(election[\"url\"] + \".json\").json()[\"polls\"])\n",
      "    temp = temp.merge(pd.DataFrame(list(temp[\"choices\"])), left_index=True, right_index=True)\n",
      "    # Make sure all polls were added.\n",
      "    assert len(temp) == election[\"poll_count\"], \"Poll count issue on: {}\".format(election[\"short_title\"])\n",
      "    polls[election[\"short_title\"]] = temp.drop(\"choices\", axis=1)\n",
      "polls.keys()"
     ],
     "language": "python",
     "metadata": {},
     "outputs": [
      {
       "metadata": {},
       "output_type": "pyout",
       "prompt_number": 6,
       "text": [
        "[u'2014 Delaware Senate: Wade vs. Coons',\n",
        " u'2014 Montana Senate: Daines vs. Curtis',\n",
        " u'2014 Oklahoma Senate: Inhofe vs. Silverstein',\n",
        " u'2014 New Jersey Senate',\n",
        " u'2014 Idaho Senate',\n",
        " u'2014 Kansas Senate',\n",
        " u'2014 Arkansas Senate',\n",
        " u'2014 Georgia Senate',\n",
        " u'2014 Tennessee Senate',\n",
        " u'2014 Alaska Senate: Sullivan vs. Begich',\n",
        " u'2014 Oregon Senate',\n",
        " u'2014 New Hampshire Senate',\n",
        " u'2014 Iowa Senate',\n",
        " u'2014 South Dakota Senate',\n",
        " u'2014 Louisiana Senate',\n",
        " u'2014 South Carolina Senate: Graham vs. Hutto',\n",
        " u'IL Senate: Oberweis vs. Durbin',\n",
        " u'2014 West Virginia Senate',\n",
        " u'2014 Mississippi Senate',\n",
        " u'2014 Massachusetts Senate: Herr vs. Markey',\n",
        " u'2014 South Carolina Senate: Scott vs. Dickerson',\n",
        " u'2014 Virginia Senate',\n",
        " u'2014 Texas Senate',\n",
        " u'2014 Rhode Island Senate: Zaccaria vs. Reed',\n",
        " u'2014 Colorado Senate',\n",
        " u'2014 Wyoming Senate',\n",
        " u'2014 New Mexico Senate',\n",
        " u'2014 Minnesota Senate',\n",
        " u'2014 Michigan Senate',\n",
        " u'2014 North Carolina Senate',\n",
        " u'2014 Kentucky Senate',\n",
        " u'2014 Maine Senate',\n",
        " u'2014 Oklahoma Senate: Lankford vs. Johnson',\n",
        " u'2014 Hawaii Senate',\n",
        " u'2014 Nebraska Senate: Sasse vs. Domina']"
       ]
      }
     ],
     "prompt_number": 6
    },
    {
     "cell_type": "code",
     "collapsed": false,
     "input": [
      "polls[\"2014 Kentucky Senate\"].head()"
     ],
     "language": "python",
     "metadata": {},
     "outputs": [
      {
       "html": [
        "<div style=\"max-height:1000px;max-width:1500px;overflow:auto;\">\n",
        "<table border=\"1\" class=\"dataframe\">\n",
        "  <thead>\n",
        "    <tr style=\"text-align: right;\">\n",
        "      <th></th>\n",
        "      <th>affiliation</th>\n",
        "      <th>cell</th>\n",
        "      <th>enddate</th>\n",
        "      <th>id</th>\n",
        "      <th>mode</th>\n",
        "      <th>numobs</th>\n",
        "      <th>partisan</th>\n",
        "      <th>pollster</th>\n",
        "      <th>population</th>\n",
        "      <th>releasedatetime</th>\n",
        "      <th>slug</th>\n",
        "      <th>startdate</th>\n",
        "      <th>url</th>\n",
        "      <th>Grimes</th>\n",
        "      <th>McConnell</th>\n",
        "      <th>Other</th>\n",
        "      <th>Undecided</th>\n",
        "    </tr>\n",
        "  </thead>\n",
        "  <tbody>\n",
        "    <tr>\n",
        "      <th>0</th>\n",
        "      <td>  Rep</td>\n",
        "      <td>  no</td>\n",
        "      <td> 2014-10-21</td>\n",
        "      <td> 20980</td>\n",
        "      <td>      Live Phone</td>\n",
        "      <td>  815</td>\n",
        "      <td>     Sponsor</td>\n",
        "      <td>                                 VCR (R-McConnell)</td>\n",
        "      <td> Likely Voters</td>\n",
        "      <td> 2014-10-22 20:51:03</td>\n",
        "      <td>                             vcr-r-mcconnell-20980</td>\n",
        "      <td> 2014-10-16</td>\n",
        "      <td> http://big.assets.huffingtonpost.com/VCRMcConn...</td>\n",
        "      <td> 41</td>\n",
        "      <td> 49</td>\n",
        "      <td>   3</td>\n",
        "      <td> 7</td>\n",
        "    </tr>\n",
        "    <tr>\n",
        "      <th>1</th>\n",
        "      <td> None</td>\n",
        "      <td> yes</td>\n",
        "      <td> 2014-10-19</td>\n",
        "      <td> 20947</td>\n",
        "      <td>      Live Phone</td>\n",
        "      <td>  557</td>\n",
        "      <td> Nonpartisan</td>\n",
        "      <td>                       Western Kentucky University</td>\n",
        "      <td> Likely Voters</td>\n",
        "      <td> 2014-10-21 11:18:33</td>\n",
        "      <td>                 western-kentucky-university-20947</td>\n",
        "      <td> 2014-10-16</td>\n",
        "      <td> http://wkussrc.blogspot.com/2014/10/2014-big-r...</td>\n",
        "      <td> 42</td>\n",
        "      <td> 45</td>\n",
        "      <td>   5</td>\n",
        "      <td> 8</td>\n",
        "    </tr>\n",
        "    <tr>\n",
        "      <th>2</th>\n",
        "      <td> None</td>\n",
        "      <td>  no</td>\n",
        "      <td> 2014-10-19</td>\n",
        "      <td> 20946</td>\n",
        "      <td>      IVR/Online</td>\n",
        "      <td>  655</td>\n",
        "      <td> Nonpartisan</td>\n",
        "      <td> SurveyUSA/Courier-Journal/Herald-Leader/WHAS/WKYT</td>\n",
        "      <td> Likely Voters</td>\n",
        "      <td> 2014-10-20 22:11:55</td>\n",
        "      <td> surveyusa-courier-journal-herald-leader-whas-w...</td>\n",
        "      <td> 2014-10-15</td>\n",
        "      <td> http://www.surveyusa.com/client/PollReport.asp...</td>\n",
        "      <td> 43</td>\n",
        "      <td> 44</td>\n",
        "      <td>   5</td>\n",
        "      <td> 8</td>\n",
        "    </tr>\n",
        "    <tr>\n",
        "      <th>3</th>\n",
        "      <td> None</td>\n",
        "      <td>  no</td>\n",
        "      <td> 2014-10-16</td>\n",
        "      <td> 20916</td>\n",
        "      <td> Automated Phone</td>\n",
        "      <td> 1000</td>\n",
        "      <td> Nonpartisan</td>\n",
        "      <td>                                         Rasmussen</td>\n",
        "      <td> Likely Voters</td>\n",
        "      <td> 2014-10-17 16:57:36</td>\n",
        "      <td>                                   rasmussen-20916</td>\n",
        "      <td> 2014-10-15</td>\n",
        "      <td> http://www.rasmussenreports.com/public_content...</td>\n",
        "      <td> 44</td>\n",
        "      <td> 52</td>\n",
        "      <td>   2</td>\n",
        "      <td> 3</td>\n",
        "    </tr>\n",
        "    <tr>\n",
        "      <th>4</th>\n",
        "      <td>  Rep</td>\n",
        "      <td>  no</td>\n",
        "      <td> 2014-10-12</td>\n",
        "      <td> 20929</td>\n",
        "      <td> Automated Phone</td>\n",
        "      <td> 1020</td>\n",
        "      <td>     Sponsor</td>\n",
        "      <td>                           Gravis/Human Events (R)</td>\n",
        "      <td> Likely Voters</td>\n",
        "      <td> 2014-10-20 01:55:53</td>\n",
        "      <td>                       gravis-human-events-r-20929</td>\n",
        "      <td> 2014-10-11</td>\n",
        "      <td> http://gravismarketing.com/polling-and-market-...</td>\n",
        "      <td> 47</td>\n",
        "      <td> 50</td>\n",
        "      <td> NaN</td>\n",
        "      <td> 4</td>\n",
        "    </tr>\n",
        "  </tbody>\n",
        "</table>\n",
        "</div>"
       ],
       "metadata": {},
       "output_type": "pyout",
       "prompt_number": 7,
       "text": [
        "  affiliation cell     enddate     id             mode numobs     partisan  \\\n",
        "0         Rep   no  2014-10-21  20980       Live Phone    815      Sponsor   \n",
        "1        None  yes  2014-10-19  20947       Live Phone    557  Nonpartisan   \n",
        "2        None   no  2014-10-19  20946       IVR/Online    655  Nonpartisan   \n",
        "3        None   no  2014-10-16  20916  Automated Phone   1000  Nonpartisan   \n",
        "4         Rep   no  2014-10-12  20929  Automated Phone   1020      Sponsor   \n",
        "\n",
        "                                            pollster     population  \\\n",
        "0                                  VCR (R-McConnell)  Likely Voters   \n",
        "1                        Western Kentucky University  Likely Voters   \n",
        "2  SurveyUSA/Courier-Journal/Herald-Leader/WHAS/WKYT  Likely Voters   \n",
        "3                                          Rasmussen  Likely Voters   \n",
        "4                            Gravis/Human Events (R)  Likely Voters   \n",
        "\n",
        "       releasedatetime                                               slug  \\\n",
        "0  2014-10-22 20:51:03                              vcr-r-mcconnell-20980   \n",
        "1  2014-10-21 11:18:33                  western-kentucky-university-20947   \n",
        "2  2014-10-20 22:11:55  surveyusa-courier-journal-herald-leader-whas-w...   \n",
        "3  2014-10-17 16:57:36                                    rasmussen-20916   \n",
        "4  2014-10-20 01:55:53                        gravis-human-events-r-20929   \n",
        "\n",
        "    startdate                                                url Grimes  \\\n",
        "0  2014-10-16  http://big.assets.huffingtonpost.com/VCRMcConn...     41   \n",
        "1  2014-10-16  http://wkussrc.blogspot.com/2014/10/2014-big-r...     42   \n",
        "2  2014-10-15  http://www.surveyusa.com/client/PollReport.asp...     43   \n",
        "3  2014-10-15  http://www.rasmussenreports.com/public_content...     44   \n",
        "4  2014-10-11  http://gravismarketing.com/polling-and-market-...     47   \n",
        "\n",
        "  McConnell Other Undecided  \n",
        "0        49     3         7  \n",
        "1        45     5         8  \n",
        "2        44     5         8  \n",
        "3        52     2         3  \n",
        "4        50   NaN         4  "
       ]
      }
     ],
     "prompt_number": 7
    },
    {
     "cell_type": "markdown",
     "metadata": {},
     "source": [
      "#### Problem 1(d)\n",
      "\n",
      "Now creaate a master table information containing information about each race. Create a pandas DataFrame called `candidates` with rows containing information about each race. The `candidates` DataFrame should have the following columns: \n",
      "\n",
      "1. `State` = entries should be unique\n",
      "2. `R` = name of republican candidate\n",
      "3. `D` = name of non-republican candidate (Democrate or Independent) \n",
      "4. `incumbent` = R, D or NA\n",
      "\n",
      "**Hint**: You will need a considerable amount of data wrangling for this."
     ]
    },
    {
     "cell_type": "code",
     "collapsed": false,
     "input": [
      "candidates = []\n",
      "for race in info:\n",
      "    temp = {}\n",
      "    temp[\"State\"] = race[\"state\"]\n",
      "    # Ignore races with emply estimates.\n",
      "    if not race[\"estimates\"]:\n",
      "        continue\n",
      "    for candidate in race[\"estimates\"]:\n",
      "        name = candidate[\"choice\"]\n",
      "        party = candidate[\"party\"]\n",
      "        # Convert to lower case to avoid case problems on if statements.\n",
      "        if party:\n",
      "            party = party.lower()\n",
      "        if party == \"rep\":\n",
      "            temp[\"R\"] = name\n",
      "            if candidate[\"incumbent\"]:\n",
      "                temp[\"incumbent\"] = \"R\"\n",
      "        # Using elif here to ignore \"other\" candidates.\n",
      "        elif party == \"dem\" or party == \"ind\":\n",
      "            temp[\"D\"] = name\n",
      "            if candidate[\"incumbent\"]:\n",
      "                temp[\"incumbent\"] = \"D\"\n",
      "        # Handle cases where none of the candidates are up for re-election.\n",
      "        if not \"incumbent\" in temp:\n",
      "            temp[\"incumbent\"] = \"NA\"\n",
      "    candidates.append(temp)\n",
      "candidates = pd.DataFrame(candidates, columns=[\"State\", \"R\", \"D\", \"incumbent\"]).drop_duplicates()\n",
      "candidates.sort(\"State\")"
     ],
     "language": "python",
     "metadata": {},
     "outputs": [
      {
       "html": [
        "<div style=\"max-height:1000px;max-width:1500px;overflow:auto;\">\n",
        "<table border=\"1\" class=\"dataframe\">\n",
        "  <thead>\n",
        "    <tr style=\"text-align: right;\">\n",
        "      <th></th>\n",
        "      <th>State</th>\n",
        "      <th>R</th>\n",
        "      <th>D</th>\n",
        "      <th>incumbent</th>\n",
        "    </tr>\n",
        "  </thead>\n",
        "  <tbody>\n",
        "    <tr>\n",
        "      <th>10</th>\n",
        "      <td> AK</td>\n",
        "      <td>  Sullivan</td>\n",
        "      <td>    Begich</td>\n",
        "      <td>  D</td>\n",
        "    </tr>\n",
        "    <tr>\n",
        "      <th>1 </th>\n",
        "      <td> AR</td>\n",
        "      <td>    Cotton</td>\n",
        "      <td>     Pryor</td>\n",
        "      <td>  D</td>\n",
        "    </tr>\n",
        "    <tr>\n",
        "      <th>8 </th>\n",
        "      <td> CO</td>\n",
        "      <td>   Gardner</td>\n",
        "      <td>     Udall</td>\n",
        "      <td>  D</td>\n",
        "    </tr>\n",
        "    <tr>\n",
        "      <th>14</th>\n",
        "      <td> GA</td>\n",
        "      <td>    Perdue</td>\n",
        "      <td>      Nunn</td>\n",
        "      <td> NA</td>\n",
        "    </tr>\n",
        "    <tr>\n",
        "      <th>27</th>\n",
        "      <td> HI</td>\n",
        "      <td>   Cavasso</td>\n",
        "      <td>    Schatz</td>\n",
        "      <td>  D</td>\n",
        "    </tr>\n",
        "    <tr>\n",
        "      <th>11</th>\n",
        "      <td> IA</td>\n",
        "      <td>     Ernst</td>\n",
        "      <td>    Braley</td>\n",
        "      <td> NA</td>\n",
        "    </tr>\n",
        "    <tr>\n",
        "      <th>24</th>\n",
        "      <td> ID</td>\n",
        "      <td>     Risch</td>\n",
        "      <td>  Mitchell</td>\n",
        "      <td>  R</td>\n",
        "    </tr>\n",
        "    <tr>\n",
        "      <th>9 </th>\n",
        "      <td> IL</td>\n",
        "      <td>  Oberweis</td>\n",
        "      <td>    Durbin</td>\n",
        "      <td>  D</td>\n",
        "    </tr>\n",
        "    <tr>\n",
        "      <th>26</th>\n",
        "      <td> KS</td>\n",
        "      <td>   Roberts</td>\n",
        "      <td>     Orman</td>\n",
        "      <td>  R</td>\n",
        "    </tr>\n",
        "    <tr>\n",
        "      <th>0 </th>\n",
        "      <td> KY</td>\n",
        "      <td> McConnell</td>\n",
        "      <td>    Grimes</td>\n",
        "      <td>  R</td>\n",
        "    </tr>\n",
        "    <tr>\n",
        "      <th>3 </th>\n",
        "      <td> LA</td>\n",
        "      <td>   Cassidy</td>\n",
        "      <td>  Landrieu</td>\n",
        "      <td>  D</td>\n",
        "    </tr>\n",
        "    <tr>\n",
        "      <th>29</th>\n",
        "      <td> MA</td>\n",
        "      <td>      Herr</td>\n",
        "      <td>    Markey</td>\n",
        "      <td>  D</td>\n",
        "    </tr>\n",
        "    <tr>\n",
        "      <th>17</th>\n",
        "      <td> ME</td>\n",
        "      <td>   Collins</td>\n",
        "      <td>   Bellows</td>\n",
        "      <td>  R</td>\n",
        "    </tr>\n",
        "    <tr>\n",
        "      <th>2 </th>\n",
        "      <td> MI</td>\n",
        "      <td>      Land</td>\n",
        "      <td>    Peters</td>\n",
        "      <td> NA</td>\n",
        "    </tr>\n",
        "    <tr>\n",
        "      <th>18</th>\n",
        "      <td> MN</td>\n",
        "      <td>  McFadden</td>\n",
        "      <td>   Franken</td>\n",
        "      <td>  D</td>\n",
        "    </tr>\n",
        "    <tr>\n",
        "      <th>12</th>\n",
        "      <td> MS</td>\n",
        "      <td>   Cochran</td>\n",
        "      <td>  Childers</td>\n",
        "      <td>  R</td>\n",
        "    </tr>\n",
        "    <tr>\n",
        "      <th>28</th>\n",
        "      <td> MT</td>\n",
        "      <td>    Daines</td>\n",
        "      <td>    Curtis</td>\n",
        "      <td> NA</td>\n",
        "    </tr>\n",
        "    <tr>\n",
        "      <th>6 </th>\n",
        "      <td> NC</td>\n",
        "      <td>    Tillis</td>\n",
        "      <td>     Hagan</td>\n",
        "      <td>  D</td>\n",
        "    </tr>\n",
        "    <tr>\n",
        "      <th>15</th>\n",
        "      <td> NE</td>\n",
        "      <td>     Sasse</td>\n",
        "      <td>    Domina</td>\n",
        "      <td> NA</td>\n",
        "    </tr>\n",
        "    <tr>\n",
        "      <th>4 </th>\n",
        "      <td> NH</td>\n",
        "      <td>     Brown</td>\n",
        "      <td>   Shaheen</td>\n",
        "      <td>  D</td>\n",
        "    </tr>\n",
        "    <tr>\n",
        "      <th>23</th>\n",
        "      <td> NJ</td>\n",
        "      <td>      Bell</td>\n",
        "      <td>    Booker</td>\n",
        "      <td>  D</td>\n",
        "    </tr>\n",
        "    <tr>\n",
        "      <th>22</th>\n",
        "      <td> NM</td>\n",
        "      <td>       Weh</td>\n",
        "      <td>     Udall</td>\n",
        "      <td>  D</td>\n",
        "    </tr>\n",
        "    <tr>\n",
        "      <th>13</th>\n",
        "      <td> OR</td>\n",
        "      <td>     Wehby</td>\n",
        "      <td>   Merkley</td>\n",
        "      <td>  D</td>\n",
        "    </tr>\n",
        "    <tr>\n",
        "      <th>20</th>\n",
        "      <td> SC</td>\n",
        "      <td>    Graham</td>\n",
        "      <td>     Hutto</td>\n",
        "      <td>  R</td>\n",
        "    </tr>\n",
        "    <tr>\n",
        "      <th>21</th>\n",
        "      <td> SC</td>\n",
        "      <td>     Scott</td>\n",
        "      <td> Dickerson</td>\n",
        "      <td>  R</td>\n",
        "    </tr>\n",
        "    <tr>\n",
        "      <th>16</th>\n",
        "      <td> SD</td>\n",
        "      <td>    Rounds</td>\n",
        "      <td>  Pressler</td>\n",
        "      <td> NA</td>\n",
        "    </tr>\n",
        "    <tr>\n",
        "      <th>25</th>\n",
        "      <td> TN</td>\n",
        "      <td> Alexander</td>\n",
        "      <td>      Ball</td>\n",
        "      <td>  R</td>\n",
        "    </tr>\n",
        "    <tr>\n",
        "      <th>19</th>\n",
        "      <td> TX</td>\n",
        "      <td>    Cornyn</td>\n",
        "      <td>   Alameel</td>\n",
        "      <td>  R</td>\n",
        "    </tr>\n",
        "    <tr>\n",
        "      <th>7 </th>\n",
        "      <td> VA</td>\n",
        "      <td> Gillespie</td>\n",
        "      <td>    Warner</td>\n",
        "      <td>  D</td>\n",
        "    </tr>\n",
        "    <tr>\n",
        "      <th>5 </th>\n",
        "      <td> WV</td>\n",
        "      <td>    Capito</td>\n",
        "      <td>   Tennant</td>\n",
        "      <td> NA</td>\n",
        "    </tr>\n",
        "  </tbody>\n",
        "</table>\n",
        "</div>"
       ],
       "metadata": {},
       "output_type": "pyout",
       "prompt_number": 8,
       "text": [
        "   State          R          D incumbent\n",
        "10    AK   Sullivan     Begich         D\n",
        "1     AR     Cotton      Pryor         D\n",
        "8     CO    Gardner      Udall         D\n",
        "14    GA     Perdue       Nunn        NA\n",
        "27    HI    Cavasso     Schatz         D\n",
        "11    IA      Ernst     Braley        NA\n",
        "24    ID      Risch   Mitchell         R\n",
        "9     IL   Oberweis     Durbin         D\n",
        "26    KS    Roberts      Orman         R\n",
        "0     KY  McConnell     Grimes         R\n",
        "3     LA    Cassidy   Landrieu         D\n",
        "29    MA       Herr     Markey         D\n",
        "17    ME    Collins    Bellows         R\n",
        "2     MI       Land     Peters        NA\n",
        "18    MN   McFadden    Franken         D\n",
        "12    MS    Cochran   Childers         R\n",
        "28    MT     Daines     Curtis        NA\n",
        "6     NC     Tillis      Hagan         D\n",
        "15    NE      Sasse     Domina        NA\n",
        "4     NH      Brown    Shaheen         D\n",
        "23    NJ       Bell     Booker         D\n",
        "22    NM        Weh      Udall         D\n",
        "13    OR      Wehby    Merkley         D\n",
        "20    SC     Graham      Hutto         R\n",
        "21    SC      Scott  Dickerson         R\n",
        "16    SD     Rounds   Pressler        NA\n",
        "25    TN  Alexander       Ball         R\n",
        "19    TX     Cornyn    Alameel         R\n",
        "7     VA  Gillespie     Warner         D\n",
        "5     WV     Capito    Tennant        NA"
       ]
      }
     ],
     "prompt_number": 8
    },
    {
     "cell_type": "markdown",
     "metadata": {},
     "source": [
      "It should be noted that a couple of the races did not have a populated \"estimates\" array, which was needed to get party affiliation and incumbent information. We decided to drop these rows."
     ]
    },
    {
     "cell_type": "markdown",
     "metadata": {},
     "source": [
      "## Problem 2: Confidence Intervals\n",
      "\n",
      "Compute a 99% confidence interval for each state. "
     ]
    },
    {
     "cell_type": "markdown",
     "metadata": {},
     "source": [
      "#### Problem 2(a)\n",
      "\n",
      "Assume you have $M$ polls with sample sizes $n_1, \\dots, n_M$. If the polls are independent, what is the average of the variances of each poll if the true proportion is $p$?"
     ]
    },
    {
     "cell_type": "markdown",
     "metadata": {},
     "source": [
      "## $\\bar{\\sigma^2} = \\frac{\\sum\\limits_{i=1}^m{n_i \\times p_i \\times q_i}}{M} \\mid q = 1 - p$"
     ]
    },
    {
     "cell_type": "markdown",
     "metadata": {},
     "source": [
      "#### Problem 2(b)\n",
      "\n",
      "Compute the square root of these values in Problem 2(b) for the republican candidates in each race. Then, compute the standard deviations of the observed poll results for each race. "
     ]
    },
    {
     "cell_type": "code",
     "collapsed": false,
     "input": [
      "errors = pd.DataFrame()\n",
      "for race, poll in polls.iteritems():\n",
      "    candidate = poll.columns.intersection(candidates[\"R\"])\n",
      "    if len(candidate) > 0:\n",
      "        p = poll[candidate].astype(np.float64) / 100\n",
      "        q = 1 - p\n",
      "        theoretical = np.sqrt((p * q).div(poll[\"numobs\"].astype(np.float64), axis=0)).mean()\n",
      "        observed = p.std()\n",
      "        errors = errors.append({\"candidate\": theoretical.index.values[0],\n",
      "                                \"theoretical\": theoretical.values[0],\n",
      "                                \"observed\": observed.values[0],\n",
      "                                \"polls\": len(poll)}, ignore_index=True)\n",
      "errors.head()"
     ],
     "language": "python",
     "metadata": {},
     "outputs": [
      {
       "html": [
        "<div style=\"max-height:1000px;max-width:1500px;overflow:auto;\">\n",
        "<table border=\"1\" class=\"dataframe\">\n",
        "  <thead>\n",
        "    <tr style=\"text-align: right;\">\n",
        "      <th></th>\n",
        "      <th>candidate</th>\n",
        "      <th>observed</th>\n",
        "      <th>polls</th>\n",
        "      <th>theoretical</th>\n",
        "    </tr>\n",
        "  </thead>\n",
        "  <tbody>\n",
        "    <tr>\n",
        "      <th>0</th>\n",
        "      <td>  Daines</td>\n",
        "      <td> 0.033466</td>\n",
        "      <td>  5</td>\n",
        "      <td> 0.020936</td>\n",
        "    </tr>\n",
        "    <tr>\n",
        "      <th>1</th>\n",
        "      <td>    Bell</td>\n",
        "      <td> 0.053485</td>\n",
        "      <td> 12</td>\n",
        "      <td> 0.015597</td>\n",
        "    </tr>\n",
        "    <tr>\n",
        "      <th>2</th>\n",
        "      <td>   Risch</td>\n",
        "      <td> 0.064265</td>\n",
        "      <td>  5</td>\n",
        "      <td> 0.018992</td>\n",
        "    </tr>\n",
        "    <tr>\n",
        "      <th>3</th>\n",
        "      <td> Roberts</td>\n",
        "      <td> 0.044117</td>\n",
        "      <td> 20</td>\n",
        "      <td> 0.017454</td>\n",
        "    </tr>\n",
        "    <tr>\n",
        "      <th>4</th>\n",
        "      <td>  Cotton</td>\n",
        "      <td> 0.036761</td>\n",
        "      <td> 55</td>\n",
        "      <td> 0.018402</td>\n",
        "    </tr>\n",
        "  </tbody>\n",
        "</table>\n",
        "</div>"
       ],
       "metadata": {},
       "output_type": "pyout",
       "prompt_number": 11,
       "text": [
        "  candidate  observed  polls  theoretical\n",
        "0    Daines  0.033466      5     0.020936\n",
        "1      Bell  0.053485     12     0.015597\n",
        "2     Risch  0.064265      5     0.018992\n",
        "3   Roberts  0.044117     20     0.017454\n",
        "4    Cotton  0.036761     55     0.018402"
       ]
      }
     ],
     "prompt_number": 11
    },
    {
     "cell_type": "markdown",
     "metadata": {},
     "source": [
      "#### Problem 2(c) \n",
      "\n",
      "Plot observed versus theoretical (average of the theoretical SDs) with the area of the point proportional to number of polls. How do these compare?"
     ]
    },
    {
     "cell_type": "code",
     "collapsed": false,
     "input": [
      "max_observed = max([max(errors[\"theoretical\"]), max(errors[\"observed\"])])*1.1\n",
      "\n",
      "plt.figure(figsize=(10, 8))\n",
      "plt.axis([0, max_observed, 0, max_observed])\n",
      "plt.plot(np.linspace(0, max_observed, 100), np.linspace(0, max_observed, 100), color='r')\n",
      "plt.scatter(errors[\"theoretical\"], errors[\"observed\"], s=errors[\"polls\"]*5)\n",
      "plt.xlabel(\"Theoretical\")\n",
      "plt.ylabel(\"Observed\")\n",
      "plt.show()"
     ],
     "language": "python",
     "metadata": {},
     "outputs": [
      {
       "metadata": {},
       "output_type": "display_data",
       "png": "[encoded data removed]",
       "text": [
        "<matplotlib.figure.Figure at 0x118ad1f10>"
       ]
      }
     ],
     "prompt_number": 46
    },
    {
     "cell_type": "markdown",
     "metadata": {},
     "source": [
      "** Your answer here: **"
     ]
    },
    {
     "cell_type": "markdown",
     "metadata": {},
     "source": [
      "#### Problem 2(d)\n",
      "\n",
      "Repeat Problem 2(c) but include only the most recent polls from the last two months. Do they match better or worse or the same? Can we just trust the theoretical values?"
     ]
    },
    {
     "cell_type": "code",
     "collapsed": false,
     "input": [
      "recent_errors = pd.DataFrame()\n",
      "for race, poll in polls.iteritems():\n",
      "    # Subtracting sixty days instead of a month.\n",
      "    two_months = dt.date.today() - dt.timedelta(days=60)\n",
      "    # Overwrite poll with only relevant polls.\n",
      "    poll = poll[poll[\"startdate\"].astype(np.datetime64) >= two_months]\n",
      "    candidate = poll.columns.intersection(candidates[\"R\"])\n",
      "    if len(candidate) > 0:\n",
      "        p = poll[candidate].astype(np.float64) / 100\n",
      "        q = 1 - p\n",
      "        theoretical = np.sqrt((p * q).div(poll[\"numobs\"].astype(np.float64), axis=0)).mean()\n",
      "        observed = p.std()\n",
      "        recent_errors = recent_errors.append({\"candidate\": theoretical.index.values[0],\n",
      "                                              \"theoretical\": theoretical.values[0],\n",
      "                                              \"observed\": observed.values[0],\n",
      "                                              \"polls\": len(poll)}, ignore_index=True)\n",
      "recent_errors.head()"
     ],
     "language": "python",
     "metadata": {},
     "outputs": [
      {
       "html": [
        "<div style=\"max-height:1000px;max-width:1500px;overflow:auto;\">\n",
        "<table border=\"1\" class=\"dataframe\">\n",
        "  <thead>\n",
        "    <tr style=\"text-align: right;\">\n",
        "      <th></th>\n",
        "      <th>candidate</th>\n",
        "      <th>observed</th>\n",
        "      <th>polls</th>\n",
        "      <th>theoretical</th>\n",
        "    </tr>\n",
        "  </thead>\n",
        "  <tbody>\n",
        "    <tr>\n",
        "      <th>0</th>\n",
        "      <td>  Daines</td>\n",
        "      <td> 0.043589</td>\n",
        "      <td>  3</td>\n",
        "      <td> 0.022476</td>\n",
        "    </tr>\n",
        "    <tr>\n",
        "      <th>1</th>\n",
        "      <td>    Bell</td>\n",
        "      <td> 0.039761</td>\n",
        "      <td>  7</td>\n",
        "      <td> 0.017113</td>\n",
        "    </tr>\n",
        "    <tr>\n",
        "      <th>2</th>\n",
        "      <td>   Risch</td>\n",
        "      <td> 0.098995</td>\n",
        "      <td>  2</td>\n",
        "      <td> 0.020790</td>\n",
        "    </tr>\n",
        "    <tr>\n",
        "      <th>3</th>\n",
        "      <td> Roberts</td>\n",
        "      <td> 0.040906</td>\n",
        "      <td> 16</td>\n",
        "      <td> 0.017752</td>\n",
        "    </tr>\n",
        "    <tr>\n",
        "      <th>4</th>\n",
        "      <td>  Cotton</td>\n",
        "      <td> 0.023939</td>\n",
        "      <td> 13</td>\n",
        "      <td> 0.017657</td>\n",
        "    </tr>\n",
        "  </tbody>\n",
        "</table>\n",
        "</div>"
       ],
       "metadata": {},
       "output_type": "pyout",
       "prompt_number": 57,
       "text": [
        "  candidate  observed  polls  theoretical\n",
        "0    Daines  0.043589      3     0.022476\n",
        "1      Bell  0.039761      7     0.017113\n",
        "2     Risch  0.098995      2     0.020790\n",
        "3   Roberts  0.040906     16     0.017752\n",
        "4    Cotton  0.023939     13     0.017657"
       ]
      }
     ],
     "prompt_number": 57
    },
    {
     "cell_type": "code",
     "collapsed": false,
     "input": [
      "max_observed = max([max(recent_errors[\"theoretical\"]), max(recent_errors[\"observed\"])])*1.1\n",
      "\n",
      "plt.figure(figsize=(10, 8))\n",
      "plt.axis([0, max_observed, 0, max_observed])\n",
      "plt.plot(np.linspace(0, max_observed, 100), np.linspace(0, max_observed, 100), color='r')\n",
      "plt.scatter(recent_errors[\"theoretical\"], recent_errors[\"observed\"], s=recent_errors[\"polls\"]*10)\n",
      "plt.xlabel(\"Theoretical\")\n",
      "plt.ylabel(\"Observed\")\n",
      "plt.show()"
     ],
     "language": "python",
     "metadata": {},
     "outputs": [
      {
       "metadata": {},
       "output_type": "display_data",
       "png": "[encoded data removed]",
       "text": [
        "<matplotlib.figure.Figure at 0x113b25790>"
       ]
      }
     ],
     "prompt_number": 59
    },
    {
     "cell_type": "markdown",
     "metadata": {},
     "source": [
      "** Your answer here: **"
     ]
    },
    {
     "cell_type": "markdown",
     "metadata": {},
     "source": [
      "#### Problem 2(e)\n",
      "\n",
      "Create a scatter plot with each point representing one state. Is there one or more races that are outlier in that it they have much larger variabilityes than expected ? Explore the original poll data and explain why the discrepancy?"
     ]
    },
    {
     "cell_type": "code",
     "collapsed": false,
     "input": [
      "recent_errors_with_states = recent_errors.merge(candidates[[\"State\", \"R\"]],\n",
      "                                                left_on=\"candidate\", right_on=\"R\").drop(\"R\", axis=1)\n",
      "\n",
      "#c_map = {'US': 'b', 'UK': 'r', ...}\n",
      "\n",
      "max_observed = max([max(recent_errors_with_states[\"theoretical\"]), max(recent_errors_with_states[\"observed\"])])*1.1\n",
      "\n",
      "plt.figure(figsize=(10, 8))\n",
      "plt.axis([0, max_observed, 0, max_observed])\n",
      "plt.plot(np.linspace(0, max_observed, 100), np.linspace(0, max_observed, 100), color='r')\n",
      "plt.scatter(recent_errors_with_states[\"theoretical\"], recent_errors_with_states[\"observed\"],\n",
      "            s=recent_errors_with_states[\"polls\"]*10)\n",
      "plt.xlabel(\"Theoretical\")\n",
      "plt.ylabel(\"Observed\")\n",
      "plt.show()"
     ],
     "language": "python",
     "metadata": {},
     "outputs": [
      {
       "metadata": {},
       "output_type": "display_data",
       "png": "[encoded data removed]",
       "text": [
        "<matplotlib.figure.Figure at 0x1185a5290>"
       ]
      }
     ],
     "prompt_number": 61
    },
    {
     "cell_type": "markdown",
     "metadata": {},
     "source": [
      "** Your answer here: **"
     ]
    },
    {
     "cell_type": "markdown",
     "metadata": {},
     "source": [
      "#### Problem 2(f)\n",
      "\n",
      " Construct confidence intervals for the difference in each race. Use either theoretical or data driven estimates of the standard error depending on your answer to this question. Use the results in Problem 2(e), to justify your choice.\n"
     ]
    },
    {
     "cell_type": "code",
     "collapsed": false,
     "input": [
      "### Your code here ###"
     ],
     "language": "python",
     "metadata": {},
     "outputs": [],
     "prompt_number": 12
    },
    {
     "cell_type": "markdown",
     "metadata": {},
     "source": [
      "# Problem 3: Prediction and Posterior Probabilities\n",
      "\n",
      "Perform a Bayesian analysis to predict the probability of Republicans winning in each state then provide a posterior distribution of the number of republicans in the senate."
     ]
    },
    {
     "cell_type": "markdown",
     "metadata": {},
     "source": [
      "#### Problem 3(a)\n",
      "\n",
      "First, we define a Bayesian model for each race. The prior for the difference $d$ between republicans and democtrats will be $N(\\mu,\\tau^2)$. Say before seeing poll data you have idea who is going to win, what should $\\mu$ be? How about $\\tau$, should it be large or small? "
     ]
    },
    {
     "cell_type": "markdown",
     "metadata": {},
     "source": [
      "** Your answer here: **"
     ]
    },
    {
     "cell_type": "markdown",
     "metadata": {},
     "source": [
      "#### Problem 3(b)\n",
      "\n",
      "What is the distribution of $d$ conditioned on $\\mu$. What is the posterior distribution of $\\mu | d$? \n",
      "\n",
      "**Hint**: Use normal approximation. "
     ]
    },
    {
     "cell_type": "markdown",
     "metadata": {},
     "source": [
      "**Your answer here:**"
     ]
    },
    {
     "cell_type": "markdown",
     "metadata": {},
     "source": [
      "#### Problem 3(c)\n",
      "\n",
      "The prior represents what we think before hand. We do not know who is expected to win, so we assume $\\mu=0$. For this problem estimate $\\tau$ using the observed differences across states (Hint: $\\tau$ represents the standard deviation of a typical difference). Compute the posterior mean for each state and plot it against original average. Is there much change? Why or why not? "
     ]
    },
    {
     "cell_type": "code",
     "collapsed": false,
     "input": [
      "### Your code here ###"
     ],
     "language": "python",
     "metadata": {},
     "outputs": [],
     "prompt_number": 13
    },
    {
     "cell_type": "markdown",
     "metadata": {},
     "source": [
      "**Your answer here:**"
     ]
    },
    {
     "cell_type": "markdown",
     "metadata": {},
     "source": [
      "#### Problem 3(d)\n",
      "\n",
      "For each state, report a probabilty of Republicans winning. How does your answer here compare to the other aggregators?"
     ]
    },
    {
     "cell_type": "code",
     "collapsed": false,
     "input": [
      "### Your code here ###"
     ],
     "language": "python",
     "metadata": {},
     "outputs": [],
     "prompt_number": 14
    },
    {
     "cell_type": "markdown",
     "metadata": {},
     "source": [
      "**Your answer here:**"
     ]
    },
    {
     "cell_type": "markdown",
     "metadata": {},
     "source": [
      "#### Problem 3(e)\n",
      "\n",
      "Use the posterior distributions in a Monte Carlo simulation to generate election results. In each simulation compute the total number of seats the Republican control. Show a histogram of these results."
     ]
    },
    {
     "cell_type": "code",
     "collapsed": false,
     "input": [
      "### Your code here ###"
     ],
     "language": "python",
     "metadata": {},
     "outputs": [],
     "prompt_number": 15
    },
    {
     "cell_type": "markdown",
     "metadata": {},
     "source": [
      "## Problem 4\n",
      "\n",
      "Predict the results for the 2014 Midterm Elections. We will have a three competitions with the terms for scoring entries described above. For both questions below, **explain** or provide commentary on how you arrived at your predictions including code. \n",
      "\n",
      "**Hint**: Use election results from 2010, 2012 to build and test models."
     ]
    },
    {
     "cell_type": "markdown",
     "metadata": {},
     "source": [
      "#### Problem 4(a)\n",
      "\n",
      "Predict the number of Republican senators. You may provide an interval. Smallest interval that includes the election day result wins. \n",
      "\n",
      "**Note**: we want the total so add the numbers of those that are not up for election."
     ]
    },
    {
     "cell_type": "code",
     "collapsed": false,
     "input": [
      "### Your code here ###"
     ],
     "language": "python",
     "metadata": {},
     "outputs": [],
     "prompt_number": 16
    },
    {
     "cell_type": "markdown",
     "metadata": {},
     "source": [
      "**Provide an explanation of methodology here**:"
     ]
    },
    {
     "cell_type": "markdown",
     "metadata": {},
     "source": [
      "#### Problem 4(b)\n",
      "\n",
      "Predict the R-D difference in each state. The predictions that minimize the residual sum of squares between predicted and observed differences wins."
     ]
    },
    {
     "cell_type": "code",
     "collapsed": false,
     "input": [
      "### Your code here ###"
     ],
     "language": "python",
     "metadata": {},
     "outputs": [],
     "prompt_number": 17
    },
    {
     "cell_type": "markdown",
     "metadata": {},
     "source": [
      "**Provide an explanation of methodology here**:"
     ]
    },
    {
     "cell_type": "markdown",
     "metadata": {},
     "source": [
      "#### Problem 4(c)\n",
      "\n",
      "Report a confidence interval for the R-D difference in each state. If the election day result falls outside your confidence interval in more than two states you are eliminated. For those surviving this cutoff, we will add up the size of all confidence intervals and sum. The smallest total length of confidence interval wins. \n",
      "\n",
      "**Note**: you can use Bayesian credible intervals or whatever else you want. "
     ]
    },
    {
     "cell_type": "code",
     "collapsed": false,
     "input": [
      "### Your code here ###"
     ],
     "language": "python",
     "metadata": {},
     "outputs": [],
     "prompt_number": 18
    },
    {
     "cell_type": "markdown",
     "metadata": {},
     "source": [
      "**Provide an explanation of methodology here**:"
     ]
    },
    {
     "cell_type": "markdown",
     "metadata": {},
     "source": [
      "# Submission Instructions\n",
      "\n",
      "To submit your homework, create a folder named **lastname_firstinitial_hw#** and place your IPython notebooks, data files, and any other files in this folder. Your IPython Notebooks should be completely executed with the results visible in the notebook. We should not have to run any code.  Compress the folder (please use .zip compression) and submit to the CS109 dropbox in the appropriate folder. *If we cannot access your work because these directions are not followed correctly, we will not grade your work.*\n"
     ]
    }
   ],
   "metadata": {}
  }
 ]
}