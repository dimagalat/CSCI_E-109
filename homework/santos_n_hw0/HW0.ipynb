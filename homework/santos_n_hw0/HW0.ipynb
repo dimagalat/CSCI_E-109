{
 "metadata": {
  "name": "",
  "signature": "sha256:b7ba6f3e298919585767320b467e311a639f8ba86ba67f77f773d996ee565f04"
 },
 "nbformat": 3,
 "nbformat_minor": 0,
 "worksheets": [
  {
   "cells": [
    {
     "cell_type": "markdown",
     "metadata": {},
     "source": [
      "## Monty Hall Problem"
     ]
    },
    {
     "cell_type": "code",
     "collapsed": false,
     "input": [
      "from __future__ import print_function\n",
      "\n",
      "import numpy as np"
     ],
     "language": "python",
     "metadata": {},
     "outputs": [],
     "prompt_number": 2
    },
    {
     "cell_type": "code",
     "collapsed": false,
     "input": [
      "\"\"\"\n",
      "Function\n",
      "--------\n",
      "simulate_prizedoor\n",
      "\n",
      "Generate a random array of 0s, 1s, and 2s, representing\n",
      "hiding a prize between door 0, door 1, and door 2\n",
      "\n",
      "Parameters\n",
      "----------\n",
      "nsim : int\n",
      "    The number of simulations to run.\n",
      "    \n",
      "Returns\n",
      "-------\n",
      "sims : array\n",
      "    Random array of 0s, 1s, and 2s.\n",
      "    \n",
      "Example\n",
      "-------\n",
      ">>> print(simulate_prizedoor(3))\n",
      "array([0, 0, 2])\n",
      "\"\"\"\n",
      "def simulate_prizedoor(nsim):\n",
      "    return np.random.randint(3, size=nsim)\n",
      "\n",
      "print(simulate_prizedoor(3))"
     ],
     "language": "python",
     "metadata": {},
     "outputs": [
      {
       "output_type": "stream",
       "stream": "stdout",
       "text": [
        "[1 0 2]\n"
       ]
      }
     ],
     "prompt_number": 3
    },
    {
     "cell_type": "code",
     "collapsed": false,
     "input": [
      "\"\"\"\n",
      "Function\n",
      "--------\n",
      "simulate_guess\n",
      "\n",
      "Return any strategy for guessing which door a prize is behind. This\n",
      "could be a random strategy, one that always guesses 2, whatever.\n",
      "\n",
      "Parameters\n",
      "----------\n",
      "nsim : int\n",
      "    The number of simulations to generate guesses for.\n",
      "    \n",
      "Returns\n",
      "-------\n",
      "guesses : array\n",
      "    An array of guesses. Each guess is a 0, 1, or 2.\n",
      "    \n",
      "Example\n",
      "-------\n",
      ">>> print(simulate_guess(5))\n",
      "array([0, 0, 0, 0, 0])\n",
      "\"\"\"\n",
      "def simulate_guess(nsim):\n",
      "    # Use a naive approach that never repeats the last door.\n",
      "    guesses = np.random.randint(3, size=1) # Size is needed so output is array.\n",
      "    while len(guesses) < nsim:\n",
      "        door = np.random.randint(3)\n",
      "        if door == guesses[-1]:\n",
      "            continue\n",
      "        guesses = np.append(guesses, door)\n",
      "    return guesses\n",
      "        \n",
      "print(simulate_guess(5))"
     ],
     "language": "python",
     "metadata": {},
     "outputs": [
      {
       "output_type": "stream",
       "stream": "stdout",
       "text": [
        "[2 0 2 1 2]\n"
       ]
      }
     ],
     "prompt_number": 4
    },
    {
     "cell_type": "code",
     "collapsed": false,
     "input": [
      "\"\"\"\n",
      "Function\n",
      "--------\n",
      "goat_door\n",
      "\n",
      "Simulate the opening of a \"goat door\" that doesn't contain the prize,\n",
      "and is different from the contestant's guess.\n",
      "\n",
      "Parameters\n",
      "----------\n",
      "prizedoors : array\n",
      "    The door that the prize is behind in each simulation.\n",
      "guesses : array\n",
      "    The door that the contestant guessed in each simulation.\n",
      "    \n",
      "Returns\n",
      "-------\n",
      "goats : array\n",
      "    The goat door that is opened for each simulation. Each item is 0, 1, or 2, and is different\n",
      "    from both prizedoors and guesses.\n",
      "    \n",
      "Example\n",
      "-------\n",
      ">>> print(goat_door(np.array([0, 1, 2]), np.array([1, 1, 1])))\n",
      "array([2, 2, 0])\n",
      "\"\"\"\n",
      "def goat_door(prizedoors, guesses):\n",
      "    # Make sure arrays are compatible.\n",
      "    assert prizedoors.shape == guesses.shape\n",
      "    \n",
      "    goats = []\n",
      "    for doors in zip(prizedoors, guesses):\n",
      "        goat = set([0, 1, 2]).difference(doors).pop() # Get first element of difference.\n",
      "        goats.append(goat)\n",
      "    return np.array(goats)\n",
      "\n",
      "print(goat_door(np.array([0, 1, 2]), np.array([1, 1, 1])))"
     ],
     "language": "python",
     "metadata": {},
     "outputs": [
      {
       "output_type": "stream",
       "stream": "stdout",
       "text": [
        "[2 0 0]\n"
       ]
      }
     ],
     "prompt_number": 5
    },
    {
     "cell_type": "code",
     "collapsed": false,
     "input": [
      "\"\"\"\n",
      "Function\n",
      "--------\n",
      "switch_guess\n",
      "\n",
      "The strategy that always switches a guess after the goat door is opened.\n",
      "\n",
      "Parameters\n",
      "----------\n",
      "guesses : array\n",
      "    Array of original guesses, for each simulation.\n",
      "goatdoors : array\n",
      "    Array of revealed goat doors for each simulation.\n",
      "\n",
      "Returns\n",
      "-------\n",
      "The new door after switching. Should be different from both guesses and goatdoors.\n",
      "\n",
      "Examples\n",
      "--------\n",
      ">>> print(switch_guess(np.array([0, 1, 2]), np.array([1, 2, 1])))\n",
      "array([2, 0, 0])\n",
      "\"\"\"\n",
      "def switch_guess(guesses, goatdoors):\n",
      "    # Make sure arrays are compatible.\n",
      "    assert guesses.shape == goatdoors.shape\n",
      "    \n",
      "    new_doors = []\n",
      "    for doors in zip(guesses, goatdoors):\n",
      "        new_door = set([0, 1, 2]).difference(doors).pop() # Get first element of difference.\n",
      "        new_doors.append(new_door)\n",
      "    return np.array(new_doors)\n",
      "\n",
      "print(switch_guess(np.array([0, 1, 2]), np.array([1, 2, 1])))"
     ],
     "language": "python",
     "metadata": {},
     "outputs": [
      {
       "output_type": "stream",
       "stream": "stdout",
       "text": [
        "[2 0 0]\n"
       ]
      }
     ],
     "prompt_number": 6
    },
    {
     "cell_type": "code",
     "collapsed": false,
     "input": [
      "\"\"\"\n",
      "Function\n",
      "--------\n",
      "win_percentage\n",
      "\n",
      "Calculate the percent of times that a simulation of guesses is correct.\n",
      "\n",
      "Parameters\n",
      "-----------\n",
      "guesses : array\n",
      "    Guesses for each simulation.\n",
      "prizedoors : array\n",
      "    Location of prize for each simulation.\n",
      "\n",
      "Returns\n",
      "--------\n",
      "percentage : number between 0 and 100\n",
      "    The win percentage.\n",
      "\n",
      "Examples\n",
      "---------\n",
      ">>> print(win_percentage(np.array([0, 1, 2]), np.array([0, 0, 0])))\n",
      "33.333\n",
      "\"\"\"\n",
      "def win_percentage(guesses, prizedoors):\n",
      "    # Make sure arrays are compatible.\n",
      "    assert guesses.shape == prizedoors.shape\n",
      "    \n",
      "    return (guesses == prizedoors).sum() / float(len(guesses)) * 100\n",
      "\n",
      "print(win_percentage(np.array([0, 1, 2]), np.array([0, 0, 0])))"
     ],
     "language": "python",
     "metadata": {},
     "outputs": [
      {
       "output_type": "stream",
       "stream": "stdout",
       "text": [
        "33.3333333333\n"
       ]
      }
     ],
     "prompt_number": 7
    },
    {
     "cell_type": "code",
     "collapsed": false,
     "input": [
      "\"\"\"\n",
      "Function\n",
      "--------\n",
      "play_game\n",
      "\n",
      "Play the game.\n",
      "\n",
      "Paramaters\n",
      "----------\n",
      "ngames : int\n",
      "    Numbers of games to play.\n",
      "switch : bool\n",
      "    Whether or not to use the \"switch\" strategy.\n",
      "    \n",
      "Returns\n",
      "-------\n",
      "None\n",
      "\n",
      "Examples\n",
      "--------\n",
      ">>> play_game(10000, True)\n",
      "Won 66.21 % of the time with switch strategy.\n",
      "\"\"\"\n",
      "def play_game(ngames, switch=False):\n",
      "    prize_doors = simulate_prizedoor(ngames)\n",
      "    selected_doors = simulate_guess(ngames)\n",
      "    \n",
      "    if switch:\n",
      "        goat_doors = goat_door(prize_doors, selected_doors)\n",
      "        selected_doors = switch_guess(selected_doors, goat_doors)\n",
      "        \n",
      "    print('Won {} % of the time with{} switch strategy.'.format(win_percentage(selected_doors, prize_doors),\n",
      "          '' if switch else 'out'))\n",
      "\n",
      "play_game(10000)\n",
      "play_game(10000, True)"
     ],
     "language": "python",
     "metadata": {},
     "outputs": [
      {
       "output_type": "stream",
       "stream": "stdout",
       "text": [
        "Won 33.24 % of the time without switch strategy.\n",
        "Won 66.21 % of the time with switch strategy."
       ]
      },
      {
       "output_type": "stream",
       "stream": "stdout",
       "text": [
        "\n"
       ]
      }
     ],
     "prompt_number": 12
    },
    {
     "cell_type": "code",
     "collapsed": false,
     "input": [],
     "language": "python",
     "metadata": {},
     "outputs": []
    }
   ],
   "metadata": {}
  }
 ]
}