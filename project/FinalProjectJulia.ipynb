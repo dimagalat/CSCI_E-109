{
 "metadata": {
  "language": "Julia",
  "name": "",
  "signature": "sha256:23079053ab7611fe651606897daadf04e6d3fc1d40cfab79f30793559c588569"
 },
 "nbformat": 3,
 "nbformat_minor": 0,
 "worksheets": [
  {
   "cells": [
    {
     "cell_type": "markdown",
     "metadata": {},
     "source": [
      "# Phases:\n",
      "\n",
      "1. Ask\n",
      "2. Choose\n",
      "3. Fit\n",
      "4. Assess\n",
      "5. Use\n",
      "\n",
      "---"
     ]
    },
    {
     "cell_type": "code",
     "collapsed": false,
     "input": [],
     "language": "python",
     "metadata": {},
     "outputs": []
    }
   ],
   "metadata": {}
  }
 ]
}